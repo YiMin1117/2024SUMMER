{
 "cells": [
  {
   "cell_type": "code",
   "execution_count": 10,
   "metadata": {},
   "outputs": [],
   "source": [
    "from bs4 import BeautifulSoup\n",
    "import requests\n",
    "import re"
   ]
  },
  {
   "cell_type": "code",
   "execution_count": 33,
   "metadata": {},
   "outputs": [],
   "source": [
    "# 台灣證券交易所>首頁 > 交易資訊 > 盤後資訊 > 每日收盤行情\n",
    "\n",
    "headers = {\n",
    "    \"User-Agent\":\"Mozilla/5.0 (Windows NT 10.0; Win64; x64) AppleWebKit/537.36 (KHTML, like Gecko) Chrome/126.0.0.0 Safari/537.36\"\n",
    "}\n",
    "\n",
    "response = requests.get(\"https://ithelp.ithome.com.tw/articles?tab=tech\", headers=headers)\n",
    "soup = BeautifulSoup(response.text, \"html.parser\")\n",
    "# data = soup.select(\"h3 qa-list__title a\")\n",
    "# find each div which has an attribute ' class=\"qa-list\" '\n",
    "data = list(soup.find_all(\"div\", class_=re.compile(\"qa-list$\"))) # '$' means \"qa-list\" this word is at the end of the string"
   ]
  },
  {
   "cell_type": "code",
   "execution_count": 31,
   "metadata": {},
   "outputs": [
    {
     "name": "stdout",
     "output_type": "stream",
     "text": [
      "<div class=\"qa-list\">\n",
      " <div class=\"qa-list__condition\">\n",
      "  <a class=\"qa-condition\" href=\"https://ithelp.ithome.com.tw/articles/10342809\">\n",
      "   <span class=\"qa-condition__count\">\n",
      "    0\n",
      "   </span>\n",
      "   <span class=\"qa-condition__text\">\n",
      "    Like\n",
      "   </span>\n",
      "  </a>\n",
      "  <a class=\"qa-condition\" href=\"https://ithelp.ithome.com.tw/articles/10342809\">\n",
      "   <span class=\"qa-condition__count\">\n",
      "    0\n",
      "   </span>\n",
      "   <span class=\"qa-condition__text\">\n",
      "    留言\n",
      "   </span>\n",
      "  </a>\n",
      "  <a class=\"qa-condition qa-condition--change\" href=\"https://ithelp.ithome.com.tw/articles/10342809\">\n",
      "   <span class=\"qa-condition__count\">\n",
      "    155\n",
      "   </span>\n",
      "   <span class=\"qa-condition__text\">\n",
      "    瀏覽\n",
      "   </span>\n",
      "  </a>\n",
      " </div>\n",
      " <div class=\"qa-list__content\">\n",
      "  <h3 class=\"qa-list__title\">\n",
      "   <a class=\"qa-list__title-link\" href=\"https://ithelp.ithome.com.tw/articles/10342809\">\n",
      "    STM32CubeIDE 跳到程式碼檔案中的特定行號 Ctrl + L\n",
      "   </a>\n",
      "  </h3>\n",
      "  <p class=\"qa-list__desc\">\n",
      "   在STM32CubeIDE中，您可以使用特定的捷徑跳到程式碼檔案中的特定行號。具體做法如下：\n",
      "開啟要跳到特定行號的檔案。\n",
      "按鍵盤上的 Ctrl + L。這將打開...\n",
      "  </p>\n",
      "  <div class=\"qa-list__info\">\n",
      "   <a class=\"qa-list__info-link\" href=\"https://ithelp.ithome.com.tw/users/20126723\">\n",
      "    Billour Ou 歐育溙\n",
      "   </a>\n",
      "   ‧\n",
      "   <a class=\"qa-list__info-time\" title=\"2024-07-11 11:53:51\">\n",
      "    2024-07-11\n",
      "   </a>\n",
      "  </div>\n",
      " </div>\n",
      "</div>\n",
      "\n"
     ]
    }
   ],
   "source": [
    "a = data[0]\n",
    "print(a.prettify())"
   ]
  },
  {
   "cell_type": "code",
   "execution_count": 32,
   "metadata": {},
   "outputs": [
    {
     "ename": "NoSuchElementException",
     "evalue": "Message: no such element: Unable to locate element: {\"method\":\"css selector\",\"selector\":\"[name=\"x1a2a7pz x1qjc9v5 xnwf7zb x40j3uw x1s7lred x15gyhx8 x9f619 x78zum5 x1fns5xo x1n2onr6 xh8yej3 x1ba4aug xmjcpbm\"]\"}\n  (Session info: chrome=126.0.6478.127); For documentation on this error, please visit: https://www.selenium.dev/documentation/webdriver/troubleshooting/errors#no-such-element-exception\nStacktrace:\n\tGetHandleVerifier [0x00007FF786D8EEA2+31554]\n\t(No symbol) [0x00007FF786D07ED9]\n\t(No symbol) [0x00007FF786BC872A]\n\t(No symbol) [0x00007FF786C18434]\n\t(No symbol) [0x00007FF786C1853C]\n\t(No symbol) [0x00007FF786C5F6A7]\n\t(No symbol) [0x00007FF786C3D06F]\n\t(No symbol) [0x00007FF786C5C977]\n\t(No symbol) [0x00007FF786C3CDD3]\n\t(No symbol) [0x00007FF786C0A33B]\n\t(No symbol) [0x00007FF786C0AED1]\n\tGetHandleVerifier [0x00007FF787098B1D+3217341]\n\tGetHandleVerifier [0x00007FF7870E5AE3+3532675]\n\tGetHandleVerifier [0x00007FF7870DB0E0+3489152]\n\tGetHandleVerifier [0x00007FF786E3E776+750614]\n\t(No symbol) [0x00007FF786D1375F]\n\t(No symbol) [0x00007FF786D0EB14]\n\t(No symbol) [0x00007FF786D0ECA2]\n\t(No symbol) [0x00007FF786CFE16F]\n\tBaseThreadInitThunk [0x00007FF9A7B5257D+29]\n\tRtlUserThreadStart [0x00007FF9A8B2AF28+40]\n",
     "output_type": "error",
     "traceback": [
      "\u001b[1;31m---------------------------------------------------------------------------\u001b[0m",
      "\u001b[1;31mNoSuchElementException\u001b[0m                    Traceback (most recent call last)",
      "Cell \u001b[1;32mIn [32], line 30\u001b[0m\n\u001b[0;32m     27\u001b[0m time\u001b[38;5;241m.\u001b[39msleep(\u001b[38;5;241m5\u001b[39m)  \u001b[38;5;66;03m# 等待頁面加載完成\u001b[39;00m\n\u001b[0;32m     29\u001b[0m \u001b[38;5;66;03m# 查找搜尋列並輸入關鍵字\u001b[39;00m\n\u001b[1;32m---> 30\u001b[0m search \u001b[38;5;241m=\u001b[39m \u001b[43mdriver\u001b[49m\u001b[38;5;241;43m.\u001b[39;49m\u001b[43mfind_element\u001b[49m\u001b[43m(\u001b[49m\u001b[43mBy\u001b[49m\u001b[38;5;241;43m.\u001b[39;49m\u001b[43mNAME\u001b[49m\u001b[43m,\u001b[49m\u001b[43m \u001b[49m\u001b[38;5;124;43m'\u001b[39;49m\u001b[38;5;124;43mx1a2a7pz x1qjc9v5 xnwf7zb x40j3uw x1s7lred x15gyhx8 x9f619 x78zum5 x1fns5xo x1n2onr6 xh8yej3 x1ba4aug xmjcpbm\u001b[39;49m\u001b[38;5;124;43m'\u001b[39;49m\u001b[43m)\u001b[49m\n\u001b[0;32m     31\u001b[0m search\u001b[38;5;241m.\u001b[39mclick()\n\u001b[0;32m     32\u001b[0m time\u001b[38;5;241m.\u001b[39msleep(\u001b[38;5;241m2\u001b[39m)\n",
      "File \u001b[1;32mc:\\MiniConda\\lib\\site-packages\\selenium\\webdriver\\remote\\webdriver.py:748\u001b[0m, in \u001b[0;36mWebDriver.find_element\u001b[1;34m(self, by, value)\u001b[0m\n\u001b[0;32m    745\u001b[0m     by \u001b[38;5;241m=\u001b[39m By\u001b[38;5;241m.\u001b[39mCSS_SELECTOR\n\u001b[0;32m    746\u001b[0m     value \u001b[38;5;241m=\u001b[39m \u001b[38;5;124mf\u001b[39m\u001b[38;5;124m'\u001b[39m\u001b[38;5;124m[name=\u001b[39m\u001b[38;5;124m\"\u001b[39m\u001b[38;5;132;01m{\u001b[39;00mvalue\u001b[38;5;132;01m}\u001b[39;00m\u001b[38;5;124m\"\u001b[39m\u001b[38;5;124m]\u001b[39m\u001b[38;5;124m'\u001b[39m\n\u001b[1;32m--> 748\u001b[0m \u001b[38;5;28;01mreturn\u001b[39;00m \u001b[38;5;28;43mself\u001b[39;49m\u001b[38;5;241;43m.\u001b[39;49m\u001b[43mexecute\u001b[49m\u001b[43m(\u001b[49m\u001b[43mCommand\u001b[49m\u001b[38;5;241;43m.\u001b[39;49m\u001b[43mFIND_ELEMENT\u001b[49m\u001b[43m,\u001b[49m\u001b[43m \u001b[49m\u001b[43m{\u001b[49m\u001b[38;5;124;43m\"\u001b[39;49m\u001b[38;5;124;43musing\u001b[39;49m\u001b[38;5;124;43m\"\u001b[39;49m\u001b[43m:\u001b[49m\u001b[43m \u001b[49m\u001b[43mby\u001b[49m\u001b[43m,\u001b[49m\u001b[43m \u001b[49m\u001b[38;5;124;43m\"\u001b[39;49m\u001b[38;5;124;43mvalue\u001b[39;49m\u001b[38;5;124;43m\"\u001b[39;49m\u001b[43m:\u001b[49m\u001b[43m \u001b[49m\u001b[43mvalue\u001b[49m\u001b[43m}\u001b[49m\u001b[43m)\u001b[49m[\u001b[38;5;124m\"\u001b[39m\u001b[38;5;124mvalue\u001b[39m\u001b[38;5;124m\"\u001b[39m]\n",
      "File \u001b[1;32mc:\\MiniConda\\lib\\site-packages\\selenium\\webdriver\\remote\\webdriver.py:354\u001b[0m, in \u001b[0;36mWebDriver.execute\u001b[1;34m(self, driver_command, params)\u001b[0m\n\u001b[0;32m    352\u001b[0m response \u001b[38;5;241m=\u001b[39m \u001b[38;5;28mself\u001b[39m\u001b[38;5;241m.\u001b[39mcommand_executor\u001b[38;5;241m.\u001b[39mexecute(driver_command, params)\n\u001b[0;32m    353\u001b[0m \u001b[38;5;28;01mif\u001b[39;00m response:\n\u001b[1;32m--> 354\u001b[0m     \u001b[38;5;28;43mself\u001b[39;49m\u001b[38;5;241;43m.\u001b[39;49m\u001b[43merror_handler\u001b[49m\u001b[38;5;241;43m.\u001b[39;49m\u001b[43mcheck_response\u001b[49m\u001b[43m(\u001b[49m\u001b[43mresponse\u001b[49m\u001b[43m)\u001b[49m\n\u001b[0;32m    355\u001b[0m     response[\u001b[38;5;124m\"\u001b[39m\u001b[38;5;124mvalue\u001b[39m\u001b[38;5;124m\"\u001b[39m] \u001b[38;5;241m=\u001b[39m \u001b[38;5;28mself\u001b[39m\u001b[38;5;241m.\u001b[39m_unwrap_value(response\u001b[38;5;241m.\u001b[39mget(\u001b[38;5;124m\"\u001b[39m\u001b[38;5;124mvalue\u001b[39m\u001b[38;5;124m\"\u001b[39m, \u001b[38;5;28;01mNone\u001b[39;00m))\n\u001b[0;32m    356\u001b[0m     \u001b[38;5;28;01mreturn\u001b[39;00m response\n",
      "File \u001b[1;32mc:\\MiniConda\\lib\\site-packages\\selenium\\webdriver\\remote\\errorhandler.py:229\u001b[0m, in \u001b[0;36mErrorHandler.check_response\u001b[1;34m(self, response)\u001b[0m\n\u001b[0;32m    227\u001b[0m         alert_text \u001b[38;5;241m=\u001b[39m value[\u001b[38;5;124m\"\u001b[39m\u001b[38;5;124malert\u001b[39m\u001b[38;5;124m\"\u001b[39m]\u001b[38;5;241m.\u001b[39mget(\u001b[38;5;124m\"\u001b[39m\u001b[38;5;124mtext\u001b[39m\u001b[38;5;124m\"\u001b[39m)\n\u001b[0;32m    228\u001b[0m     \u001b[38;5;28;01mraise\u001b[39;00m exception_class(message, screen, stacktrace, alert_text)  \u001b[38;5;66;03m# type: ignore[call-arg]  # mypy is not smart enough here\u001b[39;00m\n\u001b[1;32m--> 229\u001b[0m \u001b[38;5;28;01mraise\u001b[39;00m exception_class(message, screen, stacktrace)\n",
      "\u001b[1;31mNoSuchElementException\u001b[0m: Message: no such element: Unable to locate element: {\"method\":\"css selector\",\"selector\":\"[name=\"x1a2a7pz x1qjc9v5 xnwf7zb x40j3uw x1s7lred x15gyhx8 x9f619 x78zum5 x1fns5xo x1n2onr6 xh8yej3 x1ba4aug xmjcpbm\"]\"}\n  (Session info: chrome=126.0.6478.127); For documentation on this error, please visit: https://www.selenium.dev/documentation/webdriver/troubleshooting/errors#no-such-element-exception\nStacktrace:\n\tGetHandleVerifier [0x00007FF786D8EEA2+31554]\n\t(No symbol) [0x00007FF786D07ED9]\n\t(No symbol) [0x00007FF786BC872A]\n\t(No symbol) [0x00007FF786C18434]\n\t(No symbol) [0x00007FF786C1853C]\n\t(No symbol) [0x00007FF786C5F6A7]\n\t(No symbol) [0x00007FF786C3D06F]\n\t(No symbol) [0x00007FF786C5C977]\n\t(No symbol) [0x00007FF786C3CDD3]\n\t(No symbol) [0x00007FF786C0A33B]\n\t(No symbol) [0x00007FF786C0AED1]\n\tGetHandleVerifier [0x00007FF787098B1D+3217341]\n\tGetHandleVerifier [0x00007FF7870E5AE3+3532675]\n\tGetHandleVerifier [0x00007FF7870DB0E0+3489152]\n\tGetHandleVerifier [0x00007FF786E3E776+750614]\n\t(No symbol) [0x00007FF786D1375F]\n\t(No symbol) [0x00007FF786D0EB14]\n\t(No symbol) [0x00007FF786D0ECA2]\n\t(No symbol) [0x00007FF786CFE16F]\n\tBaseThreadInitThunk [0x00007FF9A7B5257D+29]\n\tRtlUserThreadStart [0x00007FF9A8B2AF28+40]\n"
     ]
    }
   ],
   "source": [
    "from selenium import webdriver\n",
    "from selenium.webdriver.chrome.service import Service\n",
    "from selenium.webdriver.common.by import By\n",
    "from selenium.webdriver.common.keys import Keys\n",
    "import time\n",
    "\n",
    "# 創建 Service 對象，傳遞 chromedriver 的路徑\n",
    "service = Service(executable_path=\"chromedriver-win64/chromedriver.exe\")\n",
    "\n",
    "# 使用 Service 對象來初始化 Chrome WebDriver\n",
    "driver = webdriver.Chrome(service=service)\n",
    "driver.get('https://www.facebook.com/?locale=zh_TW')\n",
    "\n",
    "time.sleep(2)\n",
    "\n",
    "# 輸入帳號密碼並登入\n",
    "email = driver.find_element(By.NAME, 'email')\n",
    "password = driver.find_element(By.NAME, 'pass')\n",
    "email.send_keys('ruby.wenlii@hotmail.com')\n",
    "password.send_keys('268473951RANGERS')\n",
    "\n",
    "time.sleep(2)\n",
    "\n",
    "button = driver.find_element(By.NAME, 'login')\n",
    "button.click()\n",
    "\n",
    "time.sleep(5)  # 等待頁面加載完成\n",
    "\n",
    "# 查找搜尋列並輸入關鍵字\n",
    "search = driver.find_element(By.NAME, 'x1a2a7pz x1qjc9v5 xnwf7zb x40j3uw x1s7lred x15gyhx8 x9f619 x78zum5 x1fns5xo x1n2onr6 xh8yej3 x1ba4aug xmjcpbm')\n",
    "search.click()\n",
    "time.sleep(2)\n",
    "search.send_keys(\"Computational Systems Biology Lab\")\n",
    "search.send_keys(Keys.RETURN)  # 模擬按下 Enter 鍵\n",
    "\n",
    "time.sleep(5)  # 等待搜尋結果加載\n",
    "\n",
    "# 在這裡添加任何你想要對搜尋結果執行的操作\n",
    "\n",
    "# 關閉瀏覽器\n",
    "driver.quit()\n"
   ]
  }
 ],
 "metadata": {
  "kernelspec": {
   "display_name": "test",
   "language": "python",
   "name": "python3"
  },
  "language_info": {
   "codemirror_mode": {
    "name": "ipython",
    "version": 3
   },
   "file_extension": ".py",
   "mimetype": "text/x-python",
   "name": "python",
   "nbconvert_exporter": "python",
   "pygments_lexer": "ipython3",
   "version": "3.10.8"
  }
 },
 "nbformat": 4,
 "nbformat_minor": 2
}
