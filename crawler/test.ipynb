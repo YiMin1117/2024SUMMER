{
 "cells": [
  {
   "cell_type": "code",
   "execution_count": 1,
   "metadata": {},
   "outputs": [],
   "source": [
    "from bs4 import BeautifulSoup\n",
    "import requests"
   ]
  },
  {
   "cell_type": "code",
   "execution_count": null,
   "metadata": {},
   "outputs": [],
   "source": []
  },
  {
   "cell_type": "code",
   "execution_count": 6,
   "metadata": {},
   "outputs": [
    {
     "data": {
      "application/json": {
       "class": "transcript",
       "fields": {
        "name": {
         "data": {
          "class": "transcript",
          "id": "Y40B10A.2a.1",
          "label": "Y40B10A.2a.1",
          "taxonomy": "c_elegans"
         },
         "description": "The name and WormBase internal ID of Y40B10A.2a.1"
        },
        "predicted_exon_structure": {
         "data": [
          {
           "end": 191,
           "len": 191,
           "no": 1,
           "start": 1
          },
          {
           "end": 2359,
           "len": 331,
           "no": 2,
           "start": 2029
          },
          {
           "end": 3326,
           "len": 134,
           "no": 3,
           "start": 3193
          },
          {
           "end": 3600,
           "len": 212,
           "no": 4,
           "start": 3389
          }
         ],
         "description": "predicted exon structure within the transcript"
        },
        "predicted_units": {
         "data": null,
         "description": "features contained within the transcript"
        },
        "protein_sequence": {
         "data": {
          "sequence": "MSNVAKSYKSSDPVIAYCSEHTTIQSPLQAELLKETLDNAPMSMMLGAPEVLTFGQNFIRSFGGRRVIDVGTYTGASALAWALAVPDDGEVFTFDIDHTNYKKFGVPIISKCEKTFKKIRAIEGSALDGLDKLIADGQSGTFDFAFIDADKVNYSNYYDRAVTLLRKGGVIFVDNSLWNGSVCDPARRTEPSTVAIHQANDKIFKDDRTYSALINLGDGTHIAFKK"
         },
         "desciprion": "The sequence of the protein"
        },
        "spliced_sequence_context": {
         "data": {
          "negative_strand": {
           "features": [
            {
             "start": 1,
             "stop": 56,
             "type": "three_prime_UTR"
            },
            {
             "start": 1,
             "stop": 212,
             "type": "exon"
            },
            {
             "start": 213,
             "stop": 346,
             "type": "exon"
            },
            {
             "start": 347,
             "stop": 677,
             "type": "exon"
            },
            {
             "start": 738,
             "stop": 868,
             "type": "five_prime_UTR"
            },
            {
             "start": 678,
             "stop": 868,
             "type": "exon"
            }
           ],
           "sequence": "ttttaaaagataaaatttattaaatataattcaaaattaaaaaaaaagcccctaatTCACTTCTTAAAAGCGATATGAGTTCCATCGCCAAGGTTGATTAGAGCAGAATAGGTACGGTCATCCTTGAAGATTTTGTCATTTGCCTGGTGGATCGCGACGGTGCTCGGCTCGGTTCTTCTCGCTGGATCGCACACGGATCCGTTCCAAAGACTATTGTCTACAAAAATGACACCTCCCTTGCGGAGCAGGGTGACAGCTCTATCGTAATAGTTACTGTAGTTCACCTTGTCGGCATCGATGAAGGCAAAATCAAAGGTTCCAGATTGTCCGTCGGCGATGAGCTTGTCAAGTCCATCCAACGCGGATCCTTCGATAGCACGAATCTTTTTGAAAGTCTTCTCGCATTTCGAGATGATCGGAACTCCGAACTTTTTATAATTAGTGTGATCAATGTCAAAAGTGAACACTTCTCCATCATCCGGAACAGCGAGAGCCCATGCCAAGGCAGATGCTCCGGTGTAGGTACCGACATCAATGACACGCCTGCCACCGAACGATCTGATGAAATTCTGTCCGAACGTGAGAACTTCCGGCGCTCCGAGCATCATAGACATTGGAGCATTGTCGAGTGTCTCCTTGAGGAGCTCAGCCTGGAGTGGCGATTGGATTGTGGTGTGCTCCGAGCAATACGCAATCACTGGATCCGAGCTCTTGTAGCTTTTTGCGACGTTGGACATtttttttttcggaaaaaaaaactgaaaattaattggattggggaggcaaaagagggaagaatttatactatcagatagtccgagagaacaagaaaaaaacgatgacaaacattgtgatttctgcgtctctt"
          },
          "positive_strand": {
           "features": [
            {
             "start": 1,
             "stop": 191,
             "type": "exon"
            },
            {
             "start": 1,
             "stop": 131,
             "type": "five_prime_UTR"
            },
            {
             "start": 192,
             "stop": 522,
             "type": "exon"
            },
            {
             "start": 523,
             "stop": 656,
             "type": "exon"
            },
            {
             "start": 657,
             "stop": 868,
             "type": "exon"
            },
            {
             "start": 813,
             "stop": 868,
             "type": "three_prime_UTR"
            }
           ],
           "sequence": "aagagacgcagaaatcacaatgtttgtcatcgtttttttcttgttctctcggactatctgatagtataaattcttccctcttttgcctccccaatccaattaattttcagtttttttttccgaaaaaaaaaATGTCCAACGTCGCAAAAAGCTACAAGAGCTCGGATCCAGTGATTGCGTATTGCTCGGAGCACACCACAATCCAATCGCCACTCCAGGCTGAGCTCCTCAAGGAGACACTCGACAATGCTCCAATGTCTATGATGCTCGGAGCGCCGGAAGTTCTCACGTTCGGACAGAATTTCATCAGATCGTTCGGTGGCAGGCGTGTCATTGATGTCGGTACCTACACCGGAGCATCTGCCTTGGCATGGGCTCTCGCTGTTCCGGATGATGGAGAAGTGTTCACTTTTGACATTGATCACACTAATTATAAAAAGTTCGGAGTTCCGATCATCTCGAAATGCGAGAAGACTTTCAAAAAGATTCGTGCTATCGAAGGATCCGCGTTGGATGGACTTGACAAGCTCATCGCCGACGGACAATCTGGAACCTTTGATTTTGCCTTCATCGATGCCGACAAGGTGAACTACAGTAACTATTACGATAGAGCTGTCACCCTGCTCCGCAAGGGAGGTGTCATTTTTGTAGACAATAGTCTTTGGAACGGATCCGTGTGCGATCCAGCGAGAAGAACCGAGCCGAGCACCGTCGCGATCCACCAGGCAAATGACAAAATCTTCAAGGATGACCGTACCTATTCTGCTCTAATCAACCTTGGCGATGGAACTCATATCGCTTTTAAGAAGTGAattaggggctttttttttaattttgaattatatttaataaattttatcttttaaaa"
          },
          "strand": "+"
         },
         "description": "the spliced sequence of the sequence"
        },
        "strand": {
         "data": "+",
         "description": "strand orientation of the sequence"
        },
        "time_cached": 1721724424,
        "unspliced_sequence_context": {
         "data": {
          "negative_strand": {
           "features": [
            {
             "start": 1,
             "stop": 56,
             "type": "three_prime_UTR"
            },
            {
             "start": 1,
             "stop": 212,
             "type": "exon"
            },
            {
             "start": 213,
             "stop": 274,
             "type": "intron"
            },
            {
             "start": 275,
             "stop": 408,
             "type": "exon"
            },
            {
             "start": 409,
             "stop": 1241,
             "type": "intron"
            },
            {
             "start": 1242,
             "stop": 1572,
             "type": "exon"
            },
            {
             "start": 1573,
             "stop": 3409,
             "type": "intron"
            },
            {
             "start": 3410,
             "stop": 3600,
             "type": "exon"
            },
            {
             "start": 3470,
             "stop": 3600,
             "type": "five_prime_UTR"
            }
           ],
           "sequence": "ttttaaaagataaaatttattaaatataattcaaaattaaaaaaaaagcccctaatTCACTTCTTAAAAGCGATATGAGTTCCATCGCCAAGGTTGATTAGAGCAGAATAGGTACGGTCATCCTTGAAGATTTTGTCATTTGCCTGGTGGATCGCGACGGTGCTCGGCTCGGTTCTTCTCGCTGGATCGCACACGGATCCGTTCCAAAGACTctgaataattcaagaaattttagaaaaaaaaatttttttttaattcaggctccactacttacATTGTCTACAAAAATGACACCTCCCTTGCGGAGCAGGGTGACAGCTCTATCGTAATAGTTACTGTAGTTCACCTTGTCGGCATCGATGAAGGCAAAATCAAAGGTTCCAGATTGTCCGTCGGCGATGAGCTTGTctagaatattacaagtgaaaacgcgctccacggcactaagtcatgggtctcgttgggaatttggcggcaaaatcagccatttttagtttaaaaaaaatgtttttaggagaaattgaattttaaaaaatcgaaaaattcttgaaaaccggggtttttctgcggatttctgaaaaaatagcaaaaaaaattttttttgccagaaacgctgaaaatatcgattttttggtttttttctgaaaaaatgcaaaaaaaaagttgttgccatattacgggaacacaaaattccgagaatgcctacggtacaacacatttgacgcgcaaaatatctcgcagcgaaaactacagtaattcttaatgactactgtagcccttgtgtcgatttacaggggctcgattttgaaatgaaaatcgagcccgtaaatcgacacacaagcgctacagttgtcatttgaaggattactgtagttttcgcaacgagatattttgcgcgtaaaatatgttgtgcagtacgcagaattatcaaatcattgtgttctcgtagtaattggaaagggtgtcaggctgtcccattacggtttgatctacaaaaaatgcgggaattttttcacaacaaaaagtgacgtcagcacgttcatgcgaaatcgcgaatatcgtagatcaacgtagatcaaaccgttatggagcactatgtcaccacgtgttttgaataattttttacatgttttctagtttttttcttttaaaaaaagcgaaaaattgttttttcacaagaaattcttgaagtatgtattgaattttttaagtttttctgccgaaaaaattgagcaacttacCAAGTCCATCCAACGCGGATCCTTCGATAGCACGAATCTTTTTGAAAGTCTTCTCGCATTTCGAGATGATCGGAACTCCGAACTTTTTATAATTAGTGTGATCAATGTCAAAAGTGAACACTTCTCCATCATCCGGAACAGCGAGAGCCCATGCCAAGGCAGATGCTCCGGTGTAGGTACCGACATCAATGACACGCCTGCCACCGAACGATCTGATGAAATTCTGTCCGAACGTGAGAACTTCCGGCGCTCCGAGCATCATAGACATTGGAGCATTGTCGAGTGTCTCCTTGAGGAGCTCAGCCTGGAGTGGCGATTGGATTGTGGTGTGctggaaaaaaagaaaataaaaatattttcataagctacgcactacacgggtttctggccttcctcattgaatttttcgcgctccattgacaatcgcctgccggacatgggaaagtcgtgtactccacacggacaaatacgtttagtttcgcaactaaaattgagccgcgacgcgacacgcaacgcgccgtaaatctacaccagatggccaagccaaaatggcctagttcggcaaactcttccatttcaatttatgagggaagccagaaatatgtggggtcctaataataaatttttctatgcaaaaatgctgtaatttttcgctaatttttcgtggaaaatatgaaaatttcattgttttttcgttgattttttcctgtttaatcaaagttttatgaattagtagtctatcatgaaaaacattgtgtagaaaaatcaataaaagttacagtaccctttgaagtcacacgcctttttgcattaaatacataatttcgtttggagaccggtaatcgtatgttcgggccaaaaaacgctaaatttcgcaactgggcgaataatgtggtaaaaatattaattttttatttttttgttgtgaaaatcgaaaaaaggaataaaattttaaaaaatcattttgtagtggcgattggattgttgtgtgctgaaaaaaaatattttcataagctacgcactacacgggtttctggccttcctccttgaatttttcgcgctccattgacaatcgcctgccggacaacgcgtgggaaagtcgtgtactccacacggacaaatacatttagtttcgcaactaaaattgagccgcgacgcgacacgcaacgcgaaattgaaattgatttttgtgaaaactttttccacttttcaaattcacataaatttttaagcgttatttcggcaaaaaaaattaaaaaaaaaacaactggaatggtgaaaaacctttgtaatcacaattttgccgcccaaatacctaacgagacccatggttcgggggcgaagcttcgaaaattggcattagggcgagtttgctctgcgtccctataaaaaacgagcaccggaggaggtaaaaaagggcatttttcgcggtgagacccatccgaataactccatgcgcctttaagtacgagttttagaattatgtgaatttgcaatattgaaaaatcgaaaaaaaaatgtttattttatttttcttctgaaacttcaagaaaatgcttgaaaattggtaaaaaaatttgaatttacaattttgccgcccaaatttttacctagtgagacccaactgttggaggcggagcgcgtttccacgacgattcacggggggttctggcccacggtggttcagttgctagatgggttcaaacgcgctccatcgaacaaacgtgcataacttggccaggaagtacaaaatcgaaaattcatcacaaataaagatagataatttcattgcggtcatttcttatatgcatcgcaaaatcgattttgtgatggttttggagatagtagccaatataggtttccagactgagtatcataaaccaacccatctagtttctgtgctaccgtgggccttcctcattgaatttttcgcgctccattgacaatcgcccgccggacaacgcgtgggaaagtcgtgtactccacacggacaaatacatttagtttaacaactaaactcgaaccgcgacgcgacacgcaacgcgccgtaaatctacaacagatatggccgagccaaaatggcctagttcggcaaactcttccatttcaatttatgaaggaaaccagaaatccgtgacattacaaactacaaactacaaactacaaacCTCCGAGCAATACGCAATCACTGGATCCGAGCTCTTGTAGCTTTTTGCGACGTTGGACATtttttttttcggaaaaaaaaactgaaaattaattggattggggaggcaaaagagggaagaatttatactatcagatagtccgagagaacaagaaaaaaacgatgacaaacattgtgatttctgcgtctctt"
          },
          "positive_strand": {
           "features": [
            {
             "start": 1,
             "stop": 131,
             "type": "five_prime_UTR"
            },
            {
             "start": 1,
             "stop": 191,
             "type": "exon"
            },
            {
             "start": 192,
             "stop": 2028,
             "type": "intron"
            },
            {
             "start": 2029,
             "stop": 2359,
             "type": "exon"
            },
            {
             "start": 2360,
             "stop": 3192,
             "type": "intron"
            },
            {
             "start": 3193,
             "stop": 3326,
             "type": "exon"
            },
            {
             "start": 3327,
             "stop": 3388,
             "type": "intron"
            },
            {
             "start": 3389,
             "stop": 3600,
             "type": "exon"
            },
            {
             "start": 3545,
             "stop": 3600,
             "type": "three_prime_UTR"
            }
           ],
           "sequence": "aagagacgcagaaatcacaatgtttgtcatcgtttttttcttgttctctcggactatctgatagtataaattcttccctcttttgcctccccaatccaattaattttcagtttttttttccgaaaaaaaaaATGTCCAACGTCGCAAAAAGCTACAAGAGCTCGGATCCAGTGATTGCGTATTGCTCGGAGgtttgtagtttgtagtttgtagtttgtaatgtcacggatttctggtttccttcataaattgaaatggaagagtttgccgaactaggccattttggctcggccatatctgttgtagatttacggcgcgttgcgtgtcgcgtcgcggttcgagtttagttgttaaactaaatgtatttgtccgtgtggagtacacgactttcccacgcgttgtccggcgggcgattgtcaatggagcgcgaaaaattcaatgaggaaggcccacggtagcacagaaactagatgggttggtttatgatactcagtctggaaacctatattggctactatctccaaaaccatcacaaaatcgattttgcgatgcatataagaaatgaccgcaatgaaattatctatctttatttgtgatgaattttcgattttgtacttcctggccaagttatgcacgtttgttcgatggagcgcgtttgaacccatctagcaactgaaccaccgtgggccagaaccccccgtgaatcgtcgtggaaacgcgctccgcctccaacagttgggtctcactaggtaaaaatttgggcggcaaaattgtaaattcaaatttttttaccaattttcaagcattttcttgaagtttcagaagaaaaataaaataaacatttttttttcgatttttcaatattgcaaattcacataattctaaaactcgtacttaaaggcgcatggagttattcggatgggtctcaccgcgaaaaatgcccttttttacctcctccggtgctcgttttttatagggacgcagagcaaactcgccctaatgccaattttcgaagcttcgcccccgaaccatgggtctcgttaggtatttgggcggcaaaattgtgattacaaaggtttttcaccattccagttgttttttttttaattttttttgccgaaataacgcttaaaaatttatgtgaatttgaaaagtggaaaaagttttcacaaaaatcaatttcaatttcgcgttgcgtgtcgcgtcgcggctcaattttagttgcgaaactaaatgtatttgtccgtgtggagtacacgactttcccacgcgttgtccggcaggcgattgtcaatggagcgcgaaaaattcaaggaggaaggccagaaacccgtgtagtgcgtagcttatgaaaatattttttttcagcacacaacaatccaatcgccactacaaaatgattttttaaaattttattccttttttcgattttcacaacaaaaaaataaaaaattaatatttttaccacattattcgcccagttgcgaaatttagcgttttttggcccgaacatacgattaccggtctccaaacgaaattatgtatttaatgcaaaaaggcgtgtgacttcaaagggtactgtaacttttattgatttttctacacaatgtttttcatgatagactactaattcataaaactttgattaaacaggaaaaaatcaacgaaaaaacaatgaaattttcatattttccacgaaaaattagcgaaaaattacagcatttttgcatagaaaaatttattattaggaccccacatatttctggcttccctcataaattgaaatggaagagtttgccgaactaggccattttggcttggccatctggtgtagatttacggcgcgttgcgtgtcgcgtcgcggctcaattttagttgcgaaactaaacgtatttgtccgtgtggagtacacgactttcccatgtccggcaggcgattgtcaatggagcgcgaaaaattcaatgaggaaggccagaaacccgtgtagtgcgtagcttatgaaaatatttttattttctttttttccagCACACCACAATCCAATCGCCACTCCAGGCTGAGCTCCTCAAGGAGACACTCGACAATGCTCCAATGTCTATGATGCTCGGAGCGCCGGAAGTTCTCACGTTCGGACAGAATTTCATCAGATCGTTCGGTGGCAGGCGTGTCATTGATGTCGGTACCTACACCGGAGCATCTGCCTTGGCATGGGCTCTCGCTGTTCCGGATGATGGAGAAGTGTTCACTTTTGACATTGATCACACTAATTATAAAAAGTTCGGAGTTCCGATCATCTCGAAATGCGAGAAGACTTTCAAAAAGATTCGTGCTATCGAAGGATCCGCGTTGGATGGACTTGgtaagttgctcaattttttcggcagaaaaacttaaaaaattcaatacatacttcaagaatttcttgtgaaaaaacaatttttcgctttttttaaaagaaaaaaactagaaaacatgtaaaaaattattcaaaacacgtggtgacatagtgctccataacggtttgatctacgttgatctacgatattcgcgatttcgcatgaacgtgctgacgtcactttttgttgtgaaaaaattcccgcattttttgtagatcaaaccgtaatgggacagcctgacaccctttccaattactacgagaacacaatgatttgataattctgcgtactgcacaacatattttacgcgcaaaatatctcgttgcgaaaactacagtaatccttcaaatgacaactgtagcgcttgtgtgtcgatttacgggctcgattttcatttcaaaatcgagcccctgtaaatcgacacaagggctacagtagtcattaagaattactgtagttttcgctgcgagatattttgcgcgtcaaatgtgttgtaccgtaggcattctcggaattttgtgttcccgtaatatggcaacaactttttttttgcattttttcagaaaaaaaccaaaaaatcgatattttcagcgtttctggcaaaaaaaattttttttgctattttttcagaaatccgcagaaaaaccccggttttcaagaatttttcgattttttaaaattcaatttctcctaaaaacattttttttaaactaaaaatggctgattttgccgccaaattcccaacgagacccatgacttagtgccgtggagcgcgttttcacttgtaatattctagACAAGCTCATCGCCGACGGACAATCTGGAACCTTTGATTTTGCCTTCATCGATGCCGACAAGGTGAACTACAGTAACTATTACGATAGAGCTGTCACCCTGCTCCGCAAGGGAGGTGTCATTTTTGTAGACAATgtaagtagtggagcctgaattaaaaaaaaatttttttttctaaaatttcttgaattattcagAGTCTTTGGAACGGATCCGTGTGCGATCCAGCGAGAAGAACCGAGCCGAGCACCGTCGCGATCCACCAGGCAAATGACAAAATCTTCAAGGATGACCGTACCTATTCTGCTCTAATCAACCTTGGCGATGGAACTCATATCGCTTTTAAGAAGTGAattaggggctttttttttaattttgaattatatttaataaattttatcttttaaaa"
          },
          "strand": "+"
         },
         "description": "the unpliced sequence of the sequence"
        },
        "unspliced_sequence_context_with_padding": {
         "data": {
          "negative_strand": {
           "features": [
            {
             "start": 1,
             "stop": 2000,
             "type": "padding"
            },
            {
             "start": 2001,
             "stop": 2056,
             "type": "three_prime_UTR"
            },
            {
             "start": 2001,
             "stop": 2212,
             "type": "exon"
            },
            {
             "start": 2213,
             "stop": 2274,
             "type": "intron"
            },
            {
             "start": 2275,
             "stop": 2408,
             "type": "exon"
            },
            {
             "start": 2409,
             "stop": 3241,
             "type": "intron"
            },
            {
             "start": 3242,
             "stop": 3572,
             "type": "exon"
            },
            {
             "start": 3573,
             "stop": 5409,
             "type": "intron"
            },
            {
             "start": 5410,
             "stop": 5600,
             "type": "exon"
            },
            {
             "start": 5470,
             "stop": 5600,
             "type": "five_prime_UTR"
            },
            {
             "start": 5601,
             "stop": 7600,
             "type": "padding"
            }
           ],
           "sequence": "tttcgccgaggtactgtttggtggccgaacttttttccgttggtggcctagaaattcggtgatcttttttaattttgaatttctataaaaagtagagaaaaaaattcgaaatattaattttcagctgagttatcgtttggtggccgaactttttcacccggtggactgaaaacgtaaaagctcggccatgcacttcctggtagatcacaagatcacaaggctctatgacaaatccgttttattttgctcgaaaatattaactttgagccaagttatttagccgtgtaaagtcgatggcctagaaacaccctgagaaaattctaggccatctgctgaaaatcaatatttgcgaaatttttgattttcagcagagttttgattgttttaagttggtggcctaggattttcctagggggatttctaggtcatcaacttcacaaaacttcacacggctaaataacttggctcaaagttaatattttcaagcaaaataaaacagatttgtcatagagccttgtgatcttgtgatctaccaggaatttctcggccaccaactgcaaaaagttcggccaccaaacgctttttgttgtcgagacacacgtttctcaaaattctacagattttgcagaatgttcaagccgtcgttcgagctgaatcgccgaggcctggtccttccaatgatggccgaaaagattgacgttttcgagttcttcgctctctgcacttttgtattctgggatttcgggctcgacgagcaaaccgacgattgcatgatgatcggaaagagtgtgaaggatcgagttatgaaggagctcgcgttctatttgagatgtgcaaaacgactagaagagccgtcacttcgtgtcgccagtcttttgacattgttacctgcgcttcaggtaaattttgaaaaattgctgtatttttatgaaaaaaaaagaataaaaaattcgatttctcgcaaaaaataattttgttttcgaaaaaaaaatcgatattttgttggtttcttgcgaaaaaaaaagttttccataaaggttttttaagacaaaaaaatgtgttattcagggttttggcaacaaatctttttttttaagaaaaaaaaaaggttttttcctaaaaaacgaaaaaaccgatagttgagggaatttttttaataaatactttttaggagaaaaaaaaacgaaaaaaaaatctaaatgttaaaggtttttggcaaaagatcgaaaaaatcgatttttcagggattttggtaaaaaagcttctttttttcagaaaaaaacgatattttgttgttttcttgcgaaaaaaaattttctaaaaagggtttttaagaaaaaaaagtttttttccttaaaaaaacgaaaaaaaaactaaattttaaatgttaaaaaaaataaatttccgctttttaataaaaaatggagaaattcgctattatttttggtttttgcgaaaaatgttttttttattttcgttttcaaaaaaaattcaggaaaattttttttcggtagttttagggcaattttggtccagaaacggttttttaaatccattttttaaaaggtttttggcaaaaaaaaaattttttcctaaaagaaacgaggtttcagcaagaattttttattaaatacttttttttagcaaaaaaaattccgctttttttagaaaaaaaatggagaaaatcgctccaaaaaaatttagaaatttttttctgtagtttttggccagttttgatccaaagaaagaagatttccatgttcaaatcaatttaatttaattttttccagagatgcgttcgtcgattccaagaagacatcgagataaccaacgtgttcaatgtgtatgcgcctcccaaggatttttatgatctcgttaatggaaaattctgctgactttccgaattttgcacacatatcaccttgaaattctgtgaaattagaatcgtgtattatcggttgttgtttttgtctactttgcccccaatgtagtttttaattttttaaaagataaaatttattaaatataattcaaaattaaaaaaaaagcccctaatTCACTTCTTAAAAGCGATATGAGTTCCATCGCCAAGGTTGATTAGAGCAGAATAGGTACGGTCATCCTTGAAGATTTTGTCATTTGCCTGGTGGATCGCGACGGTGCTCGGCTCGGTTCTTCTCGCTGGATCGCACACGGATCCGTTCCAAAGACTctgaataattcaagaaattttagaaaaaaaaatttttttttaattcaggctccactacttacATTGTCTACAAAAATGACACCTCCCTTGCGGAGCAGGGTGACAGCTCTATCGTAATAGTTACTGTAGTTCACCTTGTCGGCATCGATGAAGGCAAAATCAAAGGTTCCAGATTGTCCGTCGGCGATGAGCTTGTctagaatattacaagtgaaaacgcgctccacggcactaagtcatgggtctcgttgggaatttggcggcaaaatcagccatttttagtttaaaaaaaatgtttttaggagaaattgaattttaaaaaatcgaaaaattcttgaaaaccggggtttttctgcggatttctgaaaaaatagcaaaaaaaattttttttgccagaaacgctgaaaatatcgattttttggtttttttctgaaaaaatgcaaaaaaaaagttgttgccatattacgggaacacaaaattccgagaatgcctacggtacaacacatttgacgcgcaaaatatctcgcagcgaaaactacagtaattcttaatgactactgtagcccttgtgtcgatttacaggggctcgattttgaaatgaaaatcgagcccgtaaatcgacacacaagcgctacagttgtcatttgaaggattactgtagttttcgcaacgagatattttgcgcgtaaaatatgttgtgcagtacgcagaattatcaaatcattgtgttctcgtagtaattggaaagggtgtcaggctgtcccattacggtttgatctacaaaaaatgcgggaattttttcacaacaaaaagtgacgtcagcacgttcatgcgaaatcgcgaatatcgtagatcaacgtagatcaaaccgttatggagcactatgtcaccacgtgttttgaataattttttacatgttttctagtttttttcttttaaaaaaagcgaaaaattgttttttcacaagaaattcttgaagtatgtattgaattttttaagtttttctgccgaaaaaattgagcaacttacCAAGTCCATCCAACGCGGATCCTTCGATAGCACGAATCTTTTTGAAAGTCTTCTCGCATTTCGAGATGATCGGAACTCCGAACTTTTTATAATTAGTGTGATCAATGTCAAAAGTGAACACTTCTCCATCATCCGGAACAGCGAGAGCCCATGCCAAGGCAGATGCTCCGGTGTAGGTACCGACATCAATGACACGCCTGCCACCGAACGATCTGATGAAATTCTGTCCGAACGTGAGAACTTCCGGCGCTCCGAGCATCATAGACATTGGAGCATTGTCGAGTGTCTCCTTGAGGAGCTCAGCCTGGAGTGGCGATTGGATTGTGGTGTGctggaaaaaaagaaaataaaaatattttcataagctacgcactacacgggtttctggccttcctcattgaatttttcgcgctccattgacaatcgcctgccggacatgggaaagtcgtgtactccacacggacaaatacgtttagtttcgcaactaaaattgagccgcgacgcgacacgcaacgcgccgtaaatctacaccagatggccaagccaaaatggcctagttcggcaaactcttccatttcaatttatgagggaagccagaaatatgtggggtcctaataataaatttttctatgcaaaaatgctgtaatttttcgctaatttttcgtggaaaatatgaaaatttcattgttttttcgttgattttttcctgtttaatcaaagttttatgaattagtagtctatcatgaaaaacattgtgtagaaaaatcaataaaagttacagtaccctttgaagtcacacgcctttttgcattaaatacataatttcgtttggagaccggtaatcgtatgttcgggccaaaaaacgctaaatttcgcaactgggcgaataatgtggtaaaaatattaattttttatttttttgttgtgaaaatcgaaaaaaggaataaaattttaaaaaatcattttgtagtggcgattggattgttgtgtgctgaaaaaaaatattttcataagctacgcactacacgggtttctggccttcctccttgaatttttcgcgctccattgacaatcgcctgccggacaacgcgtgggaaagtcgtgtactccacacggacaaatacatttagtttcgcaactaaaattgagccgcgacgcgacacgcaacgcgaaattgaaattgatttttgtgaaaactttttccacttttcaaattcacataaatttttaagcgttatttcggcaaaaaaaattaaaaaaaaaacaactggaatggtgaaaaacctttgtaatcacaattttgccgcccaaatacctaacgagacccatggttcgggggcgaagcttcgaaaattggcattagggcgagtttgctctgcgtccctataaaaaacgagcaccggaggaggtaaaaaagggcatttttcgcggtgagacccatccgaataactccatgcgcctttaagtacgagttttagaattatgtgaatttgcaatattgaaaaatcgaaaaaaaaatgtttattttatttttcttctgaaacttcaagaaaatgcttgaaaattggtaaaaaaatttgaatttacaattttgccgcccaaatttttacctagtgagacccaactgttggaggcggagcgcgtttccacgacgattcacggggggttctggcccacggtggttcagttgctagatgggttcaaacgcgctccatcgaacaaacgtgcataacttggccaggaagtacaaaatcgaaaattcatcacaaataaagatagataatttcattgcggtcatttcttatatgcatcgcaaaatcgattttgtgatggttttggagatagtagccaatataggtttccagactgagtatcataaaccaacccatctagtttctgtgctaccgtgggccttcctcattgaatttttcgcgctccattgacaatcgcccgccggacaacgcgtgggaaagtcgtgtactccacacggacaaatacatttagtttaacaactaaactcgaaccgcgacgcgacacgcaacgcgccgtaaatctacaacagatatggccgagccaaaatggcctagttcggcaaactcttccatttcaatttatgaaggaaaccagaaatccgtgacattacaaactacaaactacaaactacaaacCTCCGAGCAATACGCAATCACTGGATCCGAGCTCTTGTAGCTTTTTGCGACGTTGGACATtttttttttcggaaaaaaaaactgaaaattaattggattggggaggcaaaagagggaagaatttatactatcagatagtccgagagaacaagaaaaaaacgatgacaaacattgtgatttctgcgtctcttagtgggcggagcctaaatttcgcaatttggaaacgtcgtttttctagtttcagaagaacaaaaaaaacattatttttttgaactttagattatttgcggaatacgaactttctagtgaacatggaaaataataaaaattgcaaaaataggttgacttttattacgtggccgcggagagggaaaaagttcggccactaaaaaaacttttttttttgaaaatcggggtttttcaaaattcccttttcaattatgacgggatcacaaaattttgaaaatgcgtattgcgcaacatatttgacgcgcaaaatatctcatagcgaaaactacagtaattctttaaatgactactgtagcgcttgtgtcttacgggggctcgattttttttgaatttcatttcgaaaaaacaaatctagcccgtaaatccacacaagctctacagtagttattcaaagaattactgtagttttcgcgacgagatattttgcgtgtcaaatatgttgcttattgtgctcccgtaataaatttttaattagttttcattttgaagtcaaagtgcaagcgcgctccaacgctaaacgttttcgagttttcgagaatttttcgtcgtttaaataaaagcgtttgaattcgtggttttcccgccaatacctaacgaggcccaacttttagtggcacgtggtgtcaaagtgtgtcgtttcggtttgatctacaaaaaatgctggagaagagacgcagacttttcaactgattttgcatggttatgagcgtgctgacgtcacagtttttttgaggaaaaattcacgcattttttgtagatcaaaccgaaatgagaccaccccataattataacatttggaaaaaattggcaaaataattattttttggatattttccatgtttgcgcgtgaaatttgatgcaatacaaaatttcgagctcccaagtgaatgcaccatattttacgcgcaaacttgagagaacatcagttgcacgtgtggtgtcagcgtgtctcattttggcttgatctacgttgatctacaaaaaaatggggggacaagaaacgcagatttctcaactgatttcgcatagttaagaacgtgctgacgtcacatttcttgagcaaaaaattcccgctttttttgtagatcaaaccgtaagacagcctggcaacacgtttagttgcgaaatttatgcttcatcgaagatcatactttcataaaacacgatgcaaaagcaaaaggtgataagaaaattcttaaagaaactgataactacatattgtcatgttattacgattatcatcgccaaatgggagaagtagaagcttcaggagctccaggagcaaactatatactctacaaaacggggtattacaacgaaaagttcaaaaatctgcaaacatgttttgtgtttgcgcccctttcatacaaagttctacatcacataaaagaaacagagaaaggacagagagacgcagatagaaggagatggaaaacatattttggcaaggaaggaaaataattggtggtctagaagggaaaacagcttgcgcgtaaaatatgatgtattggtgtccgtgtttgcagaattcaatcgacgacacgtggtgtcagagtgtctcaatttggcttgatctacttagatctacaaaaaatgcggcagagttctcaactgattttgcatgcttaagaacgtgctgacgtcacatatttttgggcgaaaaattcccgcaatttttgtagatcaaaccgtgatgggacagcctgcgacgtggattgaaggcatcaggtttttcgcgcaaaattgttttttttttaatttgaaaacgcgttaaaaatacggtacccggtctcgacacgacaatttttgtgaaatatgaaaaacgtgtgcgcctttaaagagtactgtaatttgacttttggaatcacagatgtctggcttcgctcatgaattgaaatggaagaatttgtcgaactaggccattttgactcggccatatctg"
          },
          "positive_strand": {
           "features": [
            {
             "start": 1,
             "stop": 2000,
             "type": "padding"
            },
            {
             "start": 2001,
             "stop": 2131,
             "type": "five_prime_UTR"
            },
            {
             "start": 2001,
             "stop": 2191,
             "type": "exon"
            },
            {
             "start": 2192,
             "stop": 4028,
             "type": "intron"
            },
            {
             "start": 4029,
             "stop": 4359,
             "type": "exon"
            },
            {
             "start": 4360,
             "stop": 5192,
             "type": "intron"
            },
            {
             "start": 5193,
             "stop": 5326,
             "type": "exon"
            },
            {
             "start": 5327,
             "stop": 5388,
             "type": "intron"
            },
            {
             "start": 5389,
             "stop": 5600,
             "type": "exon"
            },
            {
             "start": 5545,
             "stop": 5600,
             "type": "three_prime_UTR"
            },
            {
             "start": 5601,
             "stop": 7600,
             "type": "padding"
            }
           ],
           "sequence": "cagatatggccgagtcaaaatggcctagttcgacaaattcttccatttcaattcatgagcgaagccagacatctgtgattccaaaagtcaaattacagtactctttaaaggcgcacacgtttttcatatttcacaaaaattgtcgtgtcgagaccgggtaccgtatttttaacgcgttttcaaattaaaaaaaaaacaattttgcgcgaaaaacctgatgccttcaatccacgtcgcaggctgtcccatcacggtttgatctacaaaaattgcgggaatttttcgcccaaaaatatgtgacgtcagcacgttcttaagcatgcaaaatcagttgagaactctgccgcattttttgtagatctaagtagatcaagccaaattgagacactctgacaccacgtgtcgtcgattgaattctgcaaacacggacaccaatacatcatattttacgcgcaagctgttttcccttctagaccaccaattattttccttccttgccaaaatatgttttccatctccttctatctgcgtctctctgtcctttctctgtttcttttatgtgatgtagaactttgtatgaaaggggcgcaaacacaaaacatgtttgcagatttttgaacttttcgttgtaataccccgttttgtagagtatatagtttgctcctggagctcctgaagcttctacttctcccatttggcgatgataatcgtaataacatgacaatatgtagttatcagtttctttaagaattttcttatcaccttttgcttttgcatcgtgttttatgaaagtatgatcttcgatgaagcataaatttcgcaactaaacgtgttgccaggctgtcttacggtttgatctacaaaaaaagcgggaattttttgctcaagaaatgtgacgtcagcacgttcttaactatgcgaaatcagttgagaaatctgcgtttcttgtccccccatttttttgtagatcaacgtagatcaagccaaaatgagacacgctgacaccacacgtgcaactgatgttctctcaagtttgcgcgtaaaatatggtgcattcacttgggagctcgaaattttgtattgcatcaaatttcacgcgcaaacatggaaaatatccaaaaaataattattttgccaattttttccaaatgttataattatggggtggtctcatttcggtttgatctacaaaaaatgcgtgaatttttcctcaaaaaaactgtgacgtcagcacgctcataaccatgcaaaatcagttgaaaagtctgcgtctcttctccagcattttttgtagatcaaaccgaaacgacacactttgacaccacgtgccactaaaagttgggcctcgttaggtattggcgggaaaaccacgaattcaaacgcttttatttaaacgacgaaaaattctcgaaaactcgaaaacgtttagcgttggagcgcgcttgcactttgacttcaaaatgaaaactaattaaaaatttattacgggagcacaataagcaacatatttgacacgcaaaatatctcgtcgcgaaaactacagtaattctttgaataactactgtagagcttgtgtggatttacgggctagatttgttttttcgaaatgaaattcaaaaaaaatcgagcccccgtaagacacaagcgctacagtagtcatttaaagaattactgtagttttcgctatgagatattttgcgcgtcaaatatgttgcgcaatacgcattttcaaaattttgtgatcccgtcataattgaaaagggaattttgaaaaaccccgattttcaaaaaaaaaagtttttttagtggccgaactttttccctctccgcggccacgtaataaaagtcaacctatttttgcaatttttattattttccatgttcactagaaagttcgtattccgcaaataatctaaagttcaaaaaaataatgttttttttgttcttctgaaactagaaaaacgacgtttccaaattgcgaaatttaggctccgcccactaagagacgcagaaatcacaatgtttgtcatcgtttttttcttgttctctcggactatctgatagtataaattcttccctcttttgcctccccaatccaattaattttcagtttttttttccgaaaaaaaaaATGTCCAACGTCGCAAAAAGCTACAAGAGCTCGGATCCAGTGATTGCGTATTGCTCGGAGgtttgtagtttgtagtttgtagtttgtaatgtcacggatttctggtttccttcataaattgaaatggaagagtttgccgaactaggccattttggctcggccatatctgttgtagatttacggcgcgttgcgtgtcgcgtcgcggttcgagtttagttgttaaactaaatgtatttgtccgtgtggagtacacgactttcccacgcgttgtccggcgggcgattgtcaatggagcgcgaaaaattcaatgaggaaggcccacggtagcacagaaactagatgggttggtttatgatactcagtctggaaacctatattggctactatctccaaaaccatcacaaaatcgattttgcgatgcatataagaaatgaccgcaatgaaattatctatctttatttgtgatgaattttcgattttgtacttcctggccaagttatgcacgtttgttcgatggagcgcgtttgaacccatctagcaactgaaccaccgtgggccagaaccccccgtgaatcgtcgtggaaacgcgctccgcctccaacagttgggtctcactaggtaaaaatttgggcggcaaaattgtaaattcaaatttttttaccaattttcaagcattttcttgaagtttcagaagaaaaataaaataaacatttttttttcgatttttcaatattgcaaattcacataattctaaaactcgtacttaaaggcgcatggagttattcggatgggtctcaccgcgaaaaatgcccttttttacctcctccggtgctcgttttttatagggacgcagagcaaactcgccctaatgccaattttcgaagcttcgcccccgaaccatgggtctcgttaggtatttgggcggcaaaattgtgattacaaaggtttttcaccattccagttgttttttttttaattttttttgccgaaataacgcttaaaaatttatgtgaatttgaaaagtggaaaaagttttcacaaaaatcaatttcaatttcgcgttgcgtgtcgcgtcgcggctcaattttagttgcgaaactaaatgtatttgtccgtgtggagtacacgactttcccacgcgttgtccggcaggcgattgtcaatggagcgcgaaaaattcaaggaggaaggccagaaacccgtgtagtgcgtagcttatgaaaatattttttttcagcacacaacaatccaatcgccactacaaaatgattttttaaaattttattccttttttcgattttcacaacaaaaaaataaaaaattaatatttttaccacattattcgcccagttgcgaaatttagcgttttttggcccgaacatacgattaccggtctccaaacgaaattatgtatttaatgcaaaaaggcgtgtgacttcaaagggtactgtaacttttattgatttttctacacaatgtttttcatgatagactactaattcataaaactttgattaaacaggaaaaaatcaacgaaaaaacaatgaaattttcatattttccacgaaaaattagcgaaaaattacagcatttttgcatagaaaaatttattattaggaccccacatatttctggcttccctcataaattgaaatggaagagtttgccgaactaggccattttggcttggccatctggtgtagatttacggcgcgttgcgtgtcgcgtcgcggctcaattttagttgcgaaactaaacgtatttgtccgtgtggagtacacgactttcccatgtccggcaggcgattgtcaatggagcgcgaaaaattcaatgaggaaggccagaaacccgtgtagtgcgtagcttatgaaaatatttttattttctttttttccagCACACCACAATCCAATCGCCACTCCAGGCTGAGCTCCTCAAGGAGACACTCGACAATGCTCCAATGTCTATGATGCTCGGAGCGCCGGAAGTTCTCACGTTCGGACAGAATTTCATCAGATCGTTCGGTGGCAGGCGTGTCATTGATGTCGGTACCTACACCGGAGCATCTGCCTTGGCATGGGCTCTCGCTGTTCCGGATGATGGAGAAGTGTTCACTTTTGACATTGATCACACTAATTATAAAAAGTTCGGAGTTCCGATCATCTCGAAATGCGAGAAGACTTTCAAAAAGATTCGTGCTATCGAAGGATCCGCGTTGGATGGACTTGgtaagttgctcaattttttcggcagaaaaacttaaaaaattcaatacatacttcaagaatttcttgtgaaaaaacaatttttcgctttttttaaaagaaaaaaactagaaaacatgtaaaaaattattcaaaacacgtggtgacatagtgctccataacggtttgatctacgttgatctacgatattcgcgatttcgcatgaacgtgctgacgtcactttttgttgtgaaaaaattcccgcattttttgtagatcaaaccgtaatgggacagcctgacaccctttccaattactacgagaacacaatgatttgataattctgcgtactgcacaacatattttacgcgcaaaatatctcgttgcgaaaactacagtaatccttcaaatgacaactgtagcgcttgtgtgtcgatttacgggctcgattttcatttcaaaatcgagcccctgtaaatcgacacaagggctacagtagtcattaagaattactgtagttttcgctgcgagatattttgcgcgtcaaatgtgttgtaccgtaggcattctcggaattttgtgttcccgtaatatggcaacaactttttttttgcattttttcagaaaaaaaccaaaaaatcgatattttcagcgtttctggcaaaaaaaattttttttgctattttttcagaaatccgcagaaaaaccccggttttcaagaatttttcgattttttaaaattcaatttctcctaaaaacattttttttaaactaaaaatggctgattttgccgccaaattcccaacgagacccatgacttagtgccgtggagcgcgttttcacttgtaatattctagACAAGCTCATCGCCGACGGACAATCTGGAACCTTTGATTTTGCCTTCATCGATGCCGACAAGGTGAACTACAGTAACTATTACGATAGAGCTGTCACCCTGCTCCGCAAGGGAGGTGTCATTTTTGTAGACAATgtaagtagtggagcctgaattaaaaaaaaatttttttttctaaaatttcttgaattattcagAGTCTTTGGAACGGATCCGTGTGCGATCCAGCGAGAAGAACCGAGCCGAGCACCGTCGCGATCCACCAGGCAAATGACAAAATCTTCAAGGATGACCGTACCTATTCTGCTCTAATCAACCTTGGCGATGGAACTCATATCGCTTTTAAGAAGTGAattaggggctttttttttaattttgaattatatttaataaattttatcttttaaaaaattaaaaactacattgggggcaaagtagacaaaaacaacaaccgataatacacgattctaatttcacagaatttcaaggtgatatgtgtgcaaaattcggaaagtcagcagaattttccattaacgagatcataaaaatccttgggaggcgcatacacattgaacacgttggttatctcgatgtcttcttggaatcgacgaacgcatctctggaaaaaattaaattaaattgatttgaacatggaaatcttctttctttggatcaaaactggccaaaaactacagaaaaaaatttctaaatttttttggagcgattttctccattttttttctaaaaaaagcggaattttttttgctaaaaaaaagtatttaataaaaaattcttgctgaaacctcgtttcttttaggaaaaaattttttttttgccaaaaaccttttaaaaaatggatttaaaaaaccgtttctggaccaaaattgccctaaaactaccgaaaaaaaattttcctgaattttttttgaaaacgaaaataaaaaaaacatttttcgcaaaaaccaaaaataatagcgaatttctccattttttattaaaaagcggaaatttattttttttaacatttaaaatttagtttttttttcgtttttttaaggaaaaaaacttttttttcttaaaaaccctttttagaaaattttttttcgcaagaaaacaacaaaatatcgtttttttctgaaaaaaagaagcttttttaccaaaatccctgaaaaatcgattttttcgatcttttgccaaaaacctttaacatttagatttttttttcgtttttttttctcctaaaaagtatttattaaaaaaattccctcaactatcggttttttcgttttttaggaaaaaaccttttttttttcttaaaaaaaaagatttgttgccaaaaccctgaataacacatttttttgtcttaaaaaacctttatggaaaactttttttttcgcaagaaaccaacaaaatatcgatttttttttcgaaaacaaaattattttttgcgagaaatcgaattttttattctttttttttcataaaaatacagcaatttttcaaaatttacctgaagcgcaggtaacaatgtcaaaagactggcgacacgaagtgacggctcttctagtcgttttgcacatctcaaatagaacgcgagctccttcataactcgatccttcacactctttccgatcatcatgcaatcgtcggtttgctcgtcgagcccgaaatcccagaatacaaaagtgcagagagcgaagaactcgaaaacgtcaatcttttcggccatcattggaaggaccaggcctcggcgattcagctcgaacgacggcttgaacattctgcaaaatctgtagaattttgagaaacgtgtgtctcgacaacaaaaagcgtttggtggccgaactttttgcagttggtggccgagaaattcctggtagatcacaagatcacaaggctctatgacaaatctgttttattttgcttgaaaatattaactttgagccaagttatttagccgtgtgaagttttgtgaagttgatgacctagaaatccccctaggaaaatcctaggccaccaacttaaaacaatcaaaactctgctgaaaatcaaaaatttcgcaaatattgattttcagcagatggcctagaattttctcagggtgtttctaggccatcgactttacacggctaaataacttggctcaaagttaatattttcgagcaaaataaaacggatttgtcatagagccttgtgatcttgtgatctaccaggaagtgcatggccgagcttttacgttttcagtccaccgggtgaaaaagttcggccaccaaacgataactcagctgaaaattaatatttcgaatttttttctctactttttatagaaattcaaaattaaaaaagatcaccgaatttctaggccaccaacggaaaaaagttcggccaccaaacagtacctcggcgaaa"
          },
          "strand": "+"
         },
         "description": "the unpliced sequence of the sequence"
        }
       },
       "name": "Y40B10A.2a.1",
       "uri": "rest/widget/transcript/Y40B10A.2a.1/sequences"
      },
      "text/plain": [
       "<IPython.core.display.JSON object>"
      ]
     },
     "metadata": {
      "application/json": {
       "expanded": false,
       "root": "root"
      }
     },
     "output_type": "display_data"
    }
   ],
   "source": [
    "import requests\n",
    "import json\n",
    "import ssl\n",
    "from IPython.display import display, JSON\n",
    "\n",
    "# 伪造请求头\n",
    "headers = {\n",
    "    'User-Agent': 'Mozilla/5.0 (Windows NT 10.0; Win64; x64) AppleWebKit/537.36 (KHTML, like Gecko) Chrome/104.0.0 Safari/537.36'\n",
    "}\n",
    "\n",
    "# 设置 SSL 上下文以忽略 SSL 验证\n",
    "#ssl._create_default_https_context = ssl._create_unverified_context\n",
    "\n",
    "# 输入 transcript_id\n",
    "transcript_id = input(\"Enter transcript ID: \")\n",
    "\n",
    "# 构建请求 URL\n",
    "url = f'https://wormbase.org/rest/widget/transcript/{transcript_id}/sequences'\n",
    "\n",
    "# 发送请求并获取响应\n",
    "response = requests.get(url, headers=headers)\n",
    "\n",
    "# 检查响应状态码\n",
    "if response.status_code == 200:\n",
    "    # 解析 JSON 数据\n",
    "    data = response.json()\n",
    "    # 显示 JSON 数据\n",
    "    display(JSON(data))\n",
    "else:\n",
    "    print(f\"Failed to fetch data: {response.status_code}\")\n",
    "\n"
   ]
  },
  {
   "cell_type": "code",
   "execution_count": 14,
   "metadata": {},
   "outputs": [
    {
     "data": {
      "text/plain": [
       "[]"
      ]
     },
     "execution_count": 14,
     "metadata": {},
     "output_type": "execute_result"
    }
   ],
   "source": [
    "# 台灣證券交易所>首頁 > 交易資訊 > 盤後資訊 > 每日收盤行情\n",
    "response = requests.get(\"https://ithelp.ithome.com.tw/articles?tab=tech\")\n",
    "soup = BeautifulSoup(response.text, \"html.parser\")\n",
    "data = soup.select(\"h3.qa-list__title a\")\n",
    "data"
   ]
  },
  {
   "cell_type": "code",
   "execution_count": 2,
   "metadata": {},
   "outputs": [
    {
     "ename": "NameError",
     "evalue": "name 'data' is not defined",
     "output_type": "error",
     "traceback": [
      "\u001b[1;31m---------------------------------------------------------------------------\u001b[0m",
      "\u001b[1;31mNameError\u001b[0m                                 Traceback (most recent call last)",
      "Cell \u001b[1;32mIn[2], line 1\u001b[0m\n\u001b[1;32m----> 1\u001b[0m \u001b[38;5;28;01mfor\u001b[39;00m d \u001b[38;5;129;01min\u001b[39;00m \u001b[43mdata\u001b[49m:\n\u001b[0;32m      2\u001b[0m     \u001b[38;5;28mprint\u001b[39m([\u001b[38;5;124m\"\u001b[39m\u001b[38;5;124mhref\u001b[39m\u001b[38;5;124m\"\u001b[39m], d\u001b[38;5;241m.\u001b[39mtext)\n",
      "\u001b[1;31mNameError\u001b[0m: name 'data' is not defined"
     ]
    }
   ],
   "source": [
    "for d in data:\n",
    "    print([\"href\"], d.text)"
   ]
  },
  {
   "cell_type": "code",
   "execution_count": 27,
   "metadata": {},
   "outputs": [
    {
     "ename": "ElementClickInterceptedException",
     "evalue": "Message: element click intercepted: Element <input dir=\"ltr\" aria-autocomplete=\"list\" aria-expanded=\"false\" role=\"combobox\" placeholder=\"搜尋 Facebook\" autocomplete=\"off\" spellcheck=\"false\" aria-invalid=\"false\" aria-label=\"搜尋 Facebook\" class=\"x1i10hfl xggy1nq x1s07b3s x1kdt53j x1yc453h xhb22t3 xb5gni xcj1dhv x2s2ed0 xq33zhf xjyslct xjbqb8w xnwf7zb x40j3uw x1s7lred x15gyhx8 x972fbf xcfux6l x1qhh985 xm0m39n x9f619 xzsf02u xdl72j9 x1iyjqo2 xs83m0k xjb2p0i x6prxxf xeuugli x1a2a7pz x1n2onr6 x15h3p50 xm7lytj x1sxyh0 xdvlbce xurb0ha x1vqgdyp x1xtgk1k x17hph69 xo6swyp x1ad04t7 x1glnyev x1ix68h3 x19gujb8\" type=\"search\" value=\"\"> is not clickable at point (108, 28). Other element would receive the click: <div class=\"x1uvtmcs x4k7w5x x1h91t0o x1beo9mf xaigb6o x12ejxvf x3igimt xarpa2k xedcshv x1lytzrv x1t2pt76 x7ja8zs x1n2onr6 x1qrby5j x1jfb8zj\" tabindex=\"-1\">...</div>\n  (Session info: chrome=126.0.6478.127)\nStacktrace:\n\tGetHandleVerifier [0x00007FF629A8EEA2+31554]\n\t(No symbol) [0x00007FF629A07ED9]\n\t(No symbol) [0x00007FF6298C872A]\n\t(No symbol) [0x00007FF62992012E]\n\t(No symbol) [0x00007FF62991DAF2]\n\t(No symbol) [0x00007FF62991AF8B]\n\t(No symbol) [0x00007FF62991A156]\n\t(No symbol) [0x00007FF62990C151]\n\t(No symbol) [0x00007FF62993D02A]\n\t(No symbol) [0x00007FF62990BA76]\n\t(No symbol) [0x00007FF62993D240]\n\t(No symbol) [0x00007FF62995C977]\n\t(No symbol) [0x00007FF62993CDD3]\n\t(No symbol) [0x00007FF62990A33B]\n\t(No symbol) [0x00007FF62990AED1]\n\tGetHandleVerifier [0x00007FF629D98B1D+3217341]\n\tGetHandleVerifier [0x00007FF629DE5AE3+3532675]\n\tGetHandleVerifier [0x00007FF629DDB0E0+3489152]\n\tGetHandleVerifier [0x00007FF629B3E776+750614]\n\t(No symbol) [0x00007FF629A1375F]\n\t(No symbol) [0x00007FF629A0EB14]\n\t(No symbol) [0x00007FF629A0ECA2]\n\t(No symbol) [0x00007FF6299FE16F]\n\tBaseThreadInitThunk [0x00007FFAAC5D257D+29]\n\tRtlUserThreadStart [0x00007FFAAD6EAF28+40]\n",
     "output_type": "error",
     "traceback": [
      "\u001b[1;31m---------------------------------------------------------------------------\u001b[0m",
      "\u001b[1;31mElementClickInterceptedException\u001b[0m          Traceback (most recent call last)",
      "Cell \u001b[1;32mIn[27], line 31\u001b[0m\n\u001b[0;32m     29\u001b[0m \u001b[38;5;66;03m# 查找搜尋列並輸入關鍵字\u001b[39;00m\n\u001b[0;32m     30\u001b[0m search \u001b[38;5;241m=\u001b[39m driver\u001b[38;5;241m.\u001b[39mfind_element(By\u001b[38;5;241m.\u001b[39mCSS_SELECTOR, \u001b[38;5;124m'\u001b[39m\u001b[38;5;124minput[aria-label=\u001b[39m\u001b[38;5;124m\"\u001b[39m\u001b[38;5;124m搜尋 Facebook\u001b[39m\u001b[38;5;124m\"\u001b[39m\u001b[38;5;124m]\u001b[39m\u001b[38;5;124m'\u001b[39m)\n\u001b[1;32m---> 31\u001b[0m \u001b[43msearch\u001b[49m\u001b[38;5;241;43m.\u001b[39;49m\u001b[43mclick\u001b[49m\u001b[43m(\u001b[49m\u001b[43m)\u001b[49m\n\u001b[0;32m     32\u001b[0m time\u001b[38;5;241m.\u001b[39msleep(\u001b[38;5;241m2\u001b[39m)\n\u001b[0;32m     33\u001b[0m search\u001b[38;5;241m.\u001b[39msend_keys(\u001b[38;5;124m\"\u001b[39m\u001b[38;5;124mComputational Systems Biology Lab\u001b[39m\u001b[38;5;124m\"\u001b[39m)\n",
      "File \u001b[1;32mc:\\Users\\jimmy\\miniconda3\\envs\\test\\Lib\\site-packages\\selenium\\webdriver\\remote\\webelement.py:94\u001b[0m, in \u001b[0;36mWebElement.click\u001b[1;34m(self)\u001b[0m\n\u001b[0;32m     92\u001b[0m \u001b[38;5;28;01mdef\u001b[39;00m \u001b[38;5;21mclick\u001b[39m(\u001b[38;5;28mself\u001b[39m) \u001b[38;5;241m-\u001b[39m\u001b[38;5;241m>\u001b[39m \u001b[38;5;28;01mNone\u001b[39;00m:\n\u001b[0;32m     93\u001b[0m \u001b[38;5;250m    \u001b[39m\u001b[38;5;124;03m\"\"\"Clicks the element.\"\"\"\u001b[39;00m\n\u001b[1;32m---> 94\u001b[0m     \u001b[38;5;28;43mself\u001b[39;49m\u001b[38;5;241;43m.\u001b[39;49m\u001b[43m_execute\u001b[49m\u001b[43m(\u001b[49m\u001b[43mCommand\u001b[49m\u001b[38;5;241;43m.\u001b[39;49m\u001b[43mCLICK_ELEMENT\u001b[49m\u001b[43m)\u001b[49m\n",
      "File \u001b[1;32mc:\\Users\\jimmy\\miniconda3\\envs\\test\\Lib\\site-packages\\selenium\\webdriver\\remote\\webelement.py:395\u001b[0m, in \u001b[0;36mWebElement._execute\u001b[1;34m(self, command, params)\u001b[0m\n\u001b[0;32m    393\u001b[0m     params \u001b[38;5;241m=\u001b[39m {}\n\u001b[0;32m    394\u001b[0m params[\u001b[38;5;124m\"\u001b[39m\u001b[38;5;124mid\u001b[39m\u001b[38;5;124m\"\u001b[39m] \u001b[38;5;241m=\u001b[39m \u001b[38;5;28mself\u001b[39m\u001b[38;5;241m.\u001b[39m_id\n\u001b[1;32m--> 395\u001b[0m \u001b[38;5;28;01mreturn\u001b[39;00m \u001b[38;5;28;43mself\u001b[39;49m\u001b[38;5;241;43m.\u001b[39;49m\u001b[43m_parent\u001b[49m\u001b[38;5;241;43m.\u001b[39;49m\u001b[43mexecute\u001b[49m\u001b[43m(\u001b[49m\u001b[43mcommand\u001b[49m\u001b[43m,\u001b[49m\u001b[43m \u001b[49m\u001b[43mparams\u001b[49m\u001b[43m)\u001b[49m\n",
      "File \u001b[1;32mc:\\Users\\jimmy\\miniconda3\\envs\\test\\Lib\\site-packages\\selenium\\webdriver\\remote\\webdriver.py:354\u001b[0m, in \u001b[0;36mWebDriver.execute\u001b[1;34m(self, driver_command, params)\u001b[0m\n\u001b[0;32m    352\u001b[0m response \u001b[38;5;241m=\u001b[39m \u001b[38;5;28mself\u001b[39m\u001b[38;5;241m.\u001b[39mcommand_executor\u001b[38;5;241m.\u001b[39mexecute(driver_command, params)\n\u001b[0;32m    353\u001b[0m \u001b[38;5;28;01mif\u001b[39;00m response:\n\u001b[1;32m--> 354\u001b[0m     \u001b[38;5;28;43mself\u001b[39;49m\u001b[38;5;241;43m.\u001b[39;49m\u001b[43merror_handler\u001b[49m\u001b[38;5;241;43m.\u001b[39;49m\u001b[43mcheck_response\u001b[49m\u001b[43m(\u001b[49m\u001b[43mresponse\u001b[49m\u001b[43m)\u001b[49m\n\u001b[0;32m    355\u001b[0m     response[\u001b[38;5;124m\"\u001b[39m\u001b[38;5;124mvalue\u001b[39m\u001b[38;5;124m\"\u001b[39m] \u001b[38;5;241m=\u001b[39m \u001b[38;5;28mself\u001b[39m\u001b[38;5;241m.\u001b[39m_unwrap_value(response\u001b[38;5;241m.\u001b[39mget(\u001b[38;5;124m\"\u001b[39m\u001b[38;5;124mvalue\u001b[39m\u001b[38;5;124m\"\u001b[39m, \u001b[38;5;28;01mNone\u001b[39;00m))\n\u001b[0;32m    356\u001b[0m     \u001b[38;5;28;01mreturn\u001b[39;00m response\n",
      "File \u001b[1;32mc:\\Users\\jimmy\\miniconda3\\envs\\test\\Lib\\site-packages\\selenium\\webdriver\\remote\\errorhandler.py:229\u001b[0m, in \u001b[0;36mErrorHandler.check_response\u001b[1;34m(self, response)\u001b[0m\n\u001b[0;32m    227\u001b[0m         alert_text \u001b[38;5;241m=\u001b[39m value[\u001b[38;5;124m\"\u001b[39m\u001b[38;5;124malert\u001b[39m\u001b[38;5;124m\"\u001b[39m]\u001b[38;5;241m.\u001b[39mget(\u001b[38;5;124m\"\u001b[39m\u001b[38;5;124mtext\u001b[39m\u001b[38;5;124m\"\u001b[39m)\n\u001b[0;32m    228\u001b[0m     \u001b[38;5;28;01mraise\u001b[39;00m exception_class(message, screen, stacktrace, alert_text)  \u001b[38;5;66;03m# type: ignore[call-arg]  # mypy is not smart enough here\u001b[39;00m\n\u001b[1;32m--> 229\u001b[0m \u001b[38;5;28;01mraise\u001b[39;00m exception_class(message, screen, stacktrace)\n",
      "\u001b[1;31mElementClickInterceptedException\u001b[0m: Message: element click intercepted: Element <input dir=\"ltr\" aria-autocomplete=\"list\" aria-expanded=\"false\" role=\"combobox\" placeholder=\"搜尋 Facebook\" autocomplete=\"off\" spellcheck=\"false\" aria-invalid=\"false\" aria-label=\"搜尋 Facebook\" class=\"x1i10hfl xggy1nq x1s07b3s x1kdt53j x1yc453h xhb22t3 xb5gni xcj1dhv x2s2ed0 xq33zhf xjyslct xjbqb8w xnwf7zb x40j3uw x1s7lred x15gyhx8 x972fbf xcfux6l x1qhh985 xm0m39n x9f619 xzsf02u xdl72j9 x1iyjqo2 xs83m0k xjb2p0i x6prxxf xeuugli x1a2a7pz x1n2onr6 x15h3p50 xm7lytj x1sxyh0 xdvlbce xurb0ha x1vqgdyp x1xtgk1k x17hph69 xo6swyp x1ad04t7 x1glnyev x1ix68h3 x19gujb8\" type=\"search\" value=\"\"> is not clickable at point (108, 28). Other element would receive the click: <div class=\"x1uvtmcs x4k7w5x x1h91t0o x1beo9mf xaigb6o x12ejxvf x3igimt xarpa2k xedcshv x1lytzrv x1t2pt76 x7ja8zs x1n2onr6 x1qrby5j x1jfb8zj\" tabindex=\"-1\">...</div>\n  (Session info: chrome=126.0.6478.127)\nStacktrace:\n\tGetHandleVerifier [0x00007FF629A8EEA2+31554]\n\t(No symbol) [0x00007FF629A07ED9]\n\t(No symbol) [0x00007FF6298C872A]\n\t(No symbol) [0x00007FF62992012E]\n\t(No symbol) [0x00007FF62991DAF2]\n\t(No symbol) [0x00007FF62991AF8B]\n\t(No symbol) [0x00007FF62991A156]\n\t(No symbol) [0x00007FF62990C151]\n\t(No symbol) [0x00007FF62993D02A]\n\t(No symbol) [0x00007FF62990BA76]\n\t(No symbol) [0x00007FF62993D240]\n\t(No symbol) [0x00007FF62995C977]\n\t(No symbol) [0x00007FF62993CDD3]\n\t(No symbol) [0x00007FF62990A33B]\n\t(No symbol) [0x00007FF62990AED1]\n\tGetHandleVerifier [0x00007FF629D98B1D+3217341]\n\tGetHandleVerifier [0x00007FF629DE5AE3+3532675]\n\tGetHandleVerifier [0x00007FF629DDB0E0+3489152]\n\tGetHandleVerifier [0x00007FF629B3E776+750614]\n\t(No symbol) [0x00007FF629A1375F]\n\t(No symbol) [0x00007FF629A0EB14]\n\t(No symbol) [0x00007FF629A0ECA2]\n\t(No symbol) [0x00007FF6299FE16F]\n\tBaseThreadInitThunk [0x00007FFAAC5D257D+29]\n\tRtlUserThreadStart [0x00007FFAAD6EAF28+40]\n"
     ]
    }
   ],
   "source": [
    "from selenium import webdriver\n",
    "from selenium.webdriver.chrome.service import Service\n",
    "from selenium.webdriver.common.by import By\n",
    "from selenium.webdriver.common.keys import Keys\n",
    "import time\n",
    "\n",
    "# 創建 Service 對象，傳遞 chromedriver 的路徑\n",
    "service = Service(executable_path=\"chromedriver-win64/chromedriver.exe\")\n",
    "\n",
    "# 使用 Service 對象來初始化 Chrome WebDriver\n",
    "driver = webdriver.Chrome(service=service)\n",
    "driver.get('https://www.facebook.com/?locale=zh_TW')\n",
    "\n",
    "time.sleep(2)\n",
    "\n",
    "# 輸入帳號密碼並登入\n",
    "email = driver.find_element(By.NAME, 'email')\n",
    "password = driver.find_element(By.NAME, 'pass')\n",
    "email.send_keys('ruby.wenlii@hotmail.com')\n",
    "password.send_keys('268473951RANGERS')\n",
    "\n",
    "time.sleep(2)\n",
    "\n",
    "button = driver.find_element(By.NAME, 'login')\n",
    "button.click()\n",
    "\n",
    "time.sleep(5)  # 等待頁面加載完成\n",
    "\n",
    "# 查找搜尋列並輸入關鍵字\n",
    "search = driver.find_element(By.NAME, 'x1a2a7pz x1qjc9v5 xnwf7zb x40j3uw x1s7lred x15gyhx8 x9f619 x78zum5 x1fns5xo x1n2onr6 xh8yej3 x1ba4aug xmjcpbm')\n",
    "search.click()\n",
    "time.sleep(2)\n",
    "search.send_keys(\"Computational Systems Biology Lab\")\n",
    "search.send_keys(Keys.RETURN)  # 模擬按下 Enter 鍵\n",
    "\n",
    "time.sleep(5)  # 等待搜尋結果加載\n",
    "\n",
    "# 在這裡添加任何你想要對搜尋結果執行的操作\n",
    "\n",
    "# 關閉瀏覽器\n",
    "driver.quit()\n"
   ]
  }
 ],
 "metadata": {
  "kernelspec": {
   "display_name": "test",
   "language": "python",
   "name": "python3"
  },
  "language_info": {
   "codemirror_mode": {
    "name": "ipython",
    "version": 3
   },
   "file_extension": ".py",
   "mimetype": "text/x-python",
   "name": "python",
   "nbconvert_exporter": "python",
   "pygments_lexer": "ipython3",
   "version": "3.12.4"
  }
 },
 "nbformat": 4,
 "nbformat_minor": 2
}
