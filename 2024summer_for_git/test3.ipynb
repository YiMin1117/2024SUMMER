{
 "cells": [
  {
   "cell_type": "code",
   "execution_count": 6,
   "metadata": {},
   "outputs": [],
   "source": [
    "import hw2\n",
    "import pandas as pd\n"
   ]
  },
  {
   "cell_type": "code",
   "execution_count": 57,
   "metadata": {},
   "outputs": [
    {
     "name": "stdout",
     "output_type": "stream",
     "text": [
      "Index([4], dtype='int64')\n"
     ]
    },
    {
     "data": {
      "text/html": [
       "<div>\n",
       "<style scoped>\n",
       "    .dataframe tbody tr th:only-of-type {\n",
       "        vertical-align: middle;\n",
       "    }\n",
       "\n",
       "    .dataframe tbody tr th {\n",
       "        vertical-align: top;\n",
       "    }\n",
       "\n",
       "    .dataframe thead th {\n",
       "        text-align: right;\n",
       "    }\n",
       "</style>\n",
       "<table border=\"1\" class=\"dataframe\">\n",
       "  <thead>\n",
       "    <tr style=\"text-align: right;\">\n",
       "      <th></th>\n",
       "      <th>Name</th>\n",
       "      <th>Start</th>\n",
       "      <th>End</th>\n",
       "      <th>Length</th>\n",
       "    </tr>\n",
       "  </thead>\n",
       "  <tbody>\n",
       "    <tr>\n",
       "      <th>0</th>\n",
       "      <td>5'utr</td>\n",
       "      <td>1</td>\n",
       "      <td>131</td>\n",
       "      <td>131</td>\n",
       "    </tr>\n",
       "    <tr>\n",
       "      <th>1</th>\n",
       "      <td>Exon1</td>\n",
       "      <td>1</td>\n",
       "      <td>191</td>\n",
       "      <td>191</td>\n",
       "    </tr>\n",
       "    <tr>\n",
       "      <th>2</th>\n",
       "      <td>Exon2</td>\n",
       "      <td>192</td>\n",
       "      <td>522</td>\n",
       "      <td>331</td>\n",
       "    </tr>\n",
       "    <tr>\n",
       "      <th>3</th>\n",
       "      <td>Exon3</td>\n",
       "      <td>523</td>\n",
       "      <td>656</td>\n",
       "      <td>134</td>\n",
       "    </tr>\n",
       "    <tr>\n",
       "      <th>4</th>\n",
       "      <td>Exon4</td>\n",
       "      <td>657</td>\n",
       "      <td>868</td>\n",
       "      <td>212</td>\n",
       "    </tr>\n",
       "    <tr>\n",
       "      <th>5</th>\n",
       "      <td>3'utr</td>\n",
       "      <td>813</td>\n",
       "      <td>868</td>\n",
       "      <td>56</td>\n",
       "    </tr>\n",
       "    <tr>\n",
       "      <th>6</th>\n",
       "      <td>CDS</td>\n",
       "      <td>132</td>\n",
       "      <td>812</td>\n",
       "      <td>681</td>\n",
       "    </tr>\n",
       "  </tbody>\n",
       "</table>\n",
       "</div>"
      ],
      "text/plain": [
       "    Name  Start  End  Length\n",
       "0  5'utr      1  131     131\n",
       "1  Exon1      1  191     191\n",
       "2  Exon2    192  522     331\n",
       "3  Exon3    523  656     134\n",
       "4  Exon4    657  868     212\n",
       "5  3'utr    813  868      56\n",
       "6    CDS    132  812     681"
      ]
     },
     "execution_count": 57,
     "metadata": {},
     "output_type": "execute_result"
    }
   ],
   "source": [
    "df=pd.read_csv('hw2.csv')\n",
    "df = df[df['Name'].str.contains('Intron') == False].reset_index(drop=True)\n",
    "exons_df = df[df['Name'].str.contains('Exon')]\n",
    "start_offset = 1  # 第一个 Start 保持不变\n",
    "for i in range(2, len(exons_df)+1):#1,2,3\n",
    "    df.loc[i, 'Start'] = df.loc[i-1, 'End'] + 1\n",
    "    df.loc[i, 'End'] = df.loc[i, 'Start'] + df.loc[i, 'Length']-1\n",
    "if (df['Name'].str.contains(\"3'utr\")).any():\n",
    "    indices = df.loc[df['Name'] == \"3'utr\"].index-1\n",
    "    print(indices)\n",
    "    valid_indices = indices[indices >= 0]\n",
    "    df.loc[df['Name'] == \"3'utr\", 'Start']=df.loc[valid_indices,'End'].iloc[0]-df.loc[df['Name'] == \"3'utr\",\"Length\"].iloc[0]+1\n",
    "    df.loc[df['Name'] == \"3'utr\", 'End']=df.loc[df['Name'] == \"3'utr\", 'Start'].iloc[0] +df.loc[df['Name'] == \"3'utr\", 'Length'].iloc[0]-1\n",
    "cds_start=df.loc[df['Name'] == \"5'utr\", 'End'].iloc[0]+1\n",
    "cds_end=df.loc[df['Name'] == \"3'utr\", 'Start'].iloc[0]-1\n",
    "df.loc[len(df)]=[\"CDS\",cds_start,cds_end,(cds_end-cds_start+1)]\n",
    "df"
   ]
  }
 ],
 "metadata": {
  "kernelspec": {
   "display_name": "test",
   "language": "python",
   "name": "python3"
  },
  "language_info": {
   "codemirror_mode": {
    "name": "ipython",
    "version": 3
   },
   "file_extension": ".py",
   "mimetype": "text/x-python",
   "name": "python",
   "nbconvert_exporter": "python",
   "pygments_lexer": "ipython3",
   "version": "3.12.4"
  }
 },
 "nbformat": 4,
 "nbformat_minor": 2
}
