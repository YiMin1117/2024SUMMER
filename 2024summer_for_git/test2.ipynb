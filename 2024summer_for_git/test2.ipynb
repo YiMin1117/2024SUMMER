{
 "cells": [
  {
   "cell_type": "code",
   "execution_count": 2,
   "metadata": {},
   "outputs": [],
   "source": [
    "import pandas as pd\n"
   ]
  },
  {
   "cell_type": "markdown",
   "metadata": {},
   "source": [
    "## version1\n"
   ]
  },
  {
   "cell_type": "code",
   "execution_count": 3,
   "metadata": {},
   "outputs": [],
   "source": [
    "def deter3And5Utr(sequence):\n",
    "    Utrindex={\n",
    "    \"5'start_index\":[],\n",
    "    \"5'end_index\":[],\n",
    "    \"3'start_index\":[],\n",
    "    \"3'end_index\":[],\n",
    "    }\n",
    "    if sequence[0].islower():\n",
    "        for i,char in enumerate(sequence):\n",
    "            if char.isupper():\n",
    "                Utrindex[\"5'start_index\"].append(1)\n",
    "                Utrindex[\"5'end_index\"].append(i)\n",
    "                break\n",
    "    else:\n",
    "        Utrindex[\"5'start_index\"].append(None)\n",
    "        Utrindex[\"5'end_index\"].append(None)\n",
    "    \n",
    "    if len(sequence) > 0 and sequence[-1].islower():\n",
    "        for i in range(len(sequence)-1):\n",
    "            if sequence[i].isupper() and sequence[i + 1].islower():\n",
    "                Utrindex[\"3'start_index\"].append(i+1)\n",
    "                Utrindex[\"3'end_index\"].append(len(sequence))\n",
    "    else:\n",
    "        Utrindex[\"3'start_index\"].append(None)\n",
    "        Utrindex[\"3'end_index\"].append(None) \n",
    "    # if len(Utrindex[\"3'start_index\"]) > 0:\n",
    "    #     Utrindex[\"3'start_index\"] = [Utrindex[\"3'start_index\"][-1]]\n",
    "    #     Utrindex[\"3'end_index\"] = [Utrindex[\"3'end_index\"][-1]]\n",
    "    return Utrindex\n",
    "        "
   ]
  },
  {
   "cell_type": "markdown",
   "metadata": {},
   "source": [
    "## version2\n"
   ]
  },
  {
   "cell_type": "code",
   "execution_count": 4,
   "metadata": {},
   "outputs": [],
   "source": [
    "def transform(c:str):\n",
    "    if c.isupper():\n",
    "        return\"big\"\n",
    "    else:\n",
    "        return\"small\""
   ]
  },
  {
   "cell_type": "code",
   "execution_count": 5,
   "metadata": {},
   "outputs": [],
   "source": [
    "def chips(sequence):\n",
    "    prev_state=None\n",
    "    i=0\n",
    "    start=0\n",
    "    result=[]\n",
    "    while True:\n",
    "        if i==len(sequence):\n",
    "            break\n",
    "        cur=transform(sequence[i])\n",
    "        if prev_state==None:\n",
    "            prev_state=cur\n",
    "        else:\n",
    "            if prev_state!=cur:\n",
    "                result.append(sequence[start:i])\n",
    "                prev_state=cur\n",
    "                start=i\n",
    "        i+=1\n",
    "    result.append(sequence[start:])\n",
    "    return result\n"
   ]
  },
  {
   "cell_type": "code",
   "execution_count": 14,
   "metadata": {},
   "outputs": [],
   "source": [
    "def typename(splice:list[str]):\n",
    "    hw2_list=[]\n",
    "    start=0\n",
    "    for i in range(len(splice)):\n",
    "        length=len(splice[i])\n",
    "        end=start+len(splice[i])\n",
    "        info=splice[i]\n",
    "        hw2_list.append([start+1,end,length,info])\n",
    "        start=start+length\n",
    "    start=0\n",
    "    end=len(splice)\n",
    "    if splice[0].islower():\n",
    "        hw2_list[1][0]=hw2_list[0][0]\n",
    "        hw2_list[1][2]+=hw2_list[0][2]\n",
    "        hw2_list[0]=[\"5'utr\"]+hw2_list[0]\n",
    "        start=1\n",
    "    if splice[-1].islower():\n",
    "        hw2_list[-2][1]=hw2_list[-1][1]\n",
    "        hw2_list[-2][2]+=hw2_list[-1][2]\n",
    "        hw2_list[-1]=[\"3'utr\"]+hw2_list[-1]\n",
    "        end-=1\n",
    "    exon_index=1\n",
    "    intron_index=1\n",
    "    for i,_ in enumerate(hw2_list[start:end]):\n",
    "        if splice[i+start].isupper():\n",
    "            hw2_list[i+start]=[f\"Exon{exon_index}\"]+ hw2_list[i+start]\n",
    "            exon_index+=1\n",
    "        if splice[i+start].islower():\n",
    "            hw2_list[i+start]=[f\"Intron{intron_index}\"]+ hw2_list[i+start]\n",
    "            intron_index+=1\n",
    "    return hw2_list\n",
    "        \n"
   ]
  },
  {
   "cell_type": "code",
   "execution_count": 7,
   "metadata": {},
   "outputs": [],
   "source": [
    "with open('raw_data/unspliced+UTRTranscriptSequence_Y40B10A.2a.1 (1).fasta','r')as file:\n",
    "    both=file.readlines()\n",
    "with open('raw_data/without3\\'.fasta','r')as file:\n",
    "    without3=file.readlines()\n",
    "with open('raw_data/without5\\'.fasta','r')as file:\n",
    "    without5=file.readlines()\n",
    "with open('raw_data/withoutboth.fasta','r')as file:\n",
    "    withoutboth=file.readlines()\n",
    "    "
   ]
  },
  {
   "cell_type": "code",
   "execution_count": 15,
   "metadata": {},
   "outputs": [
    {
     "data": {
      "text/plain": [
       "[[\"5'utr\",\n",
       "  1,\n",
       "  131,\n",
       "  131,\n",
       "  'aagagacgcagaaatcacaatgtttgtcatcgtttttttcttgttctctcggactatctgatagtataaattcttccctcttttgcctccccaatccaattaattttcagtttttttttccgaaaaaaaaa'],\n",
       " ['Exon1',\n",
       "  1,\n",
       "  191,\n",
       "  191,\n",
       "  'ATGTCCAACGTCGCAAAAAGCTACAAGAGCTCGGATCCAGTGATTGCGTATTGCTCGGAG'],\n",
       " ['Intron1',\n",
       "  192,\n",
       "  2028,\n",
       "  1837,\n",
       "  'gtttgtagtttgtagtttgtagtttgtaatgtcacggatttctggtttccttcataaattgaaatggaagagtttgccgaactaggccattttggctcggccatatctgttgtagatttacggcgcgttgcgtgtcgcgtcgcggttcgagtttagttgttaaactaaatgtatttgtccgtgtggagtacacgactttcccacgcgttgtccggcgggcgattgtcaatggagcgcgaaaaattcaatgaggaaggcccacggtagcacagaaactagatgggttggtttatgatactcagtctggaaacctatattggctactatctccaaaaccatcacaaaatcgattttgcgatgcatataagaaatgaccgcaatgaaattatctatctttatttgtgatgaattttcgattttgtacttcctggccaagttatgcacgtttgttcgatggagcgcgtttgaacccatctagcaactgaaccaccgtgggccagaaccccccgtgaatcgtcgtggaaacgcgctccgcctccaacagttgggtctcactaggtaaaaatttgggcggcaaaattgtaaattcaaatttttttaccaattttcaagcattttcttgaagtttcagaagaaaaataaaataaacatttttttttcgatttttcaatattgcaaattcacataattctaaaactcgtacttaaaggcgcatggagttattcggatgggtctcaccgcgaaaaatgcccttttttacctcctccggtgctcgttttttatagggacgcagagcaaactcgccctaatgccaattttcgaagcttcgcccccgaaccatgggtctcgttaggtatttgggcggcaaaattgtgattacaaaggtttttcaccattccagttgttttttttttaattttttttgccgaaataacgcttaaaaatttatgtgaatttgaaaagtggaaaaagttttcacaaaaatcaatttcaatttcgcgttgcgtgtcgcgtcgcggctcaattttagttgcgaaactaaatgtatttgtccgtgtggagtacacgactttcccacgcgttgtccggcaggcgattgtcaatggagcgcgaaaaattcaaggaggaaggccagaaacccgtgtagtgcgtagcttatgaaaatattttttttcagcacacaacaatccaatcgccactacaaaatgattttttaaaattttattccttttttcgattttcacaacaaaaaaataaaaaattaatatttttaccacattattcgcccagttgcgaaatttagcgttttttggcccgaacatacgattaccggtctccaaacgaaattatgtatttaatgcaaaaaggcgtgtgacttcaaagggtactgtaacttttattgatttttctacacaatgtttttcatgatagactactaattcataaaactttgattaaacaggaaaaaatcaacgaaaaaacaatgaaattttcatattttccacgaaaaattagcgaaaaattacagcatttttgcatagaaaaatttattattaggaccccacatatttctggcttccctcataaattgaaatggaagagtttgccgaactaggccattttggcttggccatctggtgtagatttacggcgcgttgcgtgtcgcgtcgcggctcaattttagttgcgaaactaaacgtatttgtccgtgtggagtacacgactttcccatgtccggcaggcgattgtcaatggagcgcgaaaaattcaatgaggaaggccagaaacccgtgtagtgcgtagcttatgaaaatatttttattttctttttttccag'],\n",
       " ['Exon2',\n",
       "  2029,\n",
       "  2359,\n",
       "  331,\n",
       "  'CACACCACAATCCAATCGCCACTCCAGGCTGAGCTCCTCAAGGAGACACTCGACAATGCTCCAATGTCTATGATGCTCGGAGCGCCGGAAGTTCTCACGTTCGGACAGAATTTCATCAGATCGTTCGGTGGCAGGCGTGTCATTGATGTCGGTACCTACACCGGAGCATCTGCCTTGGCATGGGCTCTCGCTGTTCCGGATGATGGAGAAGTGTTCACTTTTGACATTGATCACACTAATTATAAAAAGTTCGGAGTTCCGATCATCTCGAAATGCGAGAAGACTTTCAAAAAGATTCGTGCTATCGAAGGATCCGCGTTGGATGGACTTG'],\n",
       " ['Intron2',\n",
       "  2360,\n",
       "  3192,\n",
       "  833,\n",
       "  'gtaagttgctcaattttttcggcagaaaaacttaaaaaattcaatacatacttcaagaatttcttgtgaaaaaacaatttttcgctttttttaaaagaaaaaaactagaaaacatgtaaaaaattattcaaaacacgtggtgacatagtgctccataacggtttgatctacgttgatctacgatattcgcgatttcgcatgaacgtgctgacgtcactttttgttgtgaaaaaattcccgcattttttgtagatcaaaccgtaatgggacagcctgacaccctttccaattactacgagaacacaatgatttgataattctgcgtactgcacaacatattttacgcgcaaaatatctcgttgcgaaaactacagtaatccttcaaatgacaactgtagcgcttgtgtgtcgatttacgggctcgattttcatttcaaaatcgagcccctgtaaatcgacacaagggctacagtagtcattaagaattactgtagttttcgctgcgagatattttgcgcgtcaaatgtgttgtaccgtaggcattctcggaattttgtgttcccgtaatatggcaacaactttttttttgcattttttcagaaaaaaaccaaaaaatcgatattttcagcgtttctggcaaaaaaaattttttttgctattttttcagaaatccgcagaaaaaccccggttttcaagaatttttcgattttttaaaattcaatttctcctaaaaacattttttttaaactaaaaatggctgattttgccgccaaattcccaacgagacccatgacttagtgccgtggagcgcgttttcacttgtaatattctag'],\n",
       " ['Exon3',\n",
       "  3193,\n",
       "  3326,\n",
       "  134,\n",
       "  'ACAAGCTCATCGCCGACGGACAATCTGGAACCTTTGATTTTGCCTTCATCGATGCCGACAAGGTGAACTACAGTAACTATTACGATAGAGCTGTCACCCTGCTCCGCAAGGGAGGTGTCATTTTTGTAGACAAT'],\n",
       " ['Intron3',\n",
       "  3327,\n",
       "  3388,\n",
       "  62,\n",
       "  'gtaagtagtggagcctgaattaaaaaaaaatttttttttctaaaatttcttgaattattcag'],\n",
       " ['Exon4',\n",
       "  3389,\n",
       "  3600,\n",
       "  212,\n",
       "  'AGTCTTTGGAACGGATCCGTGTGCGATCCAGCGAGAAGAACCGAGCCGAGCACCGTCGCGATCCACCAGGCAAATGACAAAATCTTCAAGGATGACCGTACCTATTCTGCTCTAATCAACCTTGGCGATGGAACTCATATCGCTTTTAAGAAGTGA'],\n",
       " [\"3'utr\",\n",
       "  3545,\n",
       "  3600,\n",
       "  56,\n",
       "  'attaggggctttttttttaattttgaattatatttaataaattttatcttttaaaa']]"
      ]
     },
     "execution_count": 15,
     "metadata": {},
     "output_type": "execute_result"
    }
   ],
   "source": [
    "test=chips(both[1])\n",
    "\n",
    "y=typename(test)\n",
    "y\n"
   ]
  }
 ],
 "metadata": {
  "kernelspec": {
   "display_name": "test",
   "language": "python",
   "name": "python3"
  },
  "language_info": {
   "codemirror_mode": {
    "name": "ipython",
    "version": 3
   },
   "file_extension": ".py",
   "mimetype": "text/x-python",
   "name": "python",
   "nbconvert_exporter": "python",
   "pygments_lexer": "ipython3",
   "version": "3.12.4"
  }
 },
 "nbformat": 4,
 "nbformat_minor": 2
}
