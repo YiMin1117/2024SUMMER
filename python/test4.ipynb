{
 "cells": [
  {
   "cell_type": "code",
   "execution_count": 4,
   "metadata": {},
   "outputs": [],
   "source": [
    "from Bio.Seq import Seq\n",
    "import hw2\n"
   ]
  },
  {
   "cell_type": "code",
   "execution_count": 7,
   "metadata": {},
   "outputs": [
    {
     "data": {
      "text/plain": [
       "'MSNVAKSYKSSDPVIAYCSEHTTIQSPLQAELLKETLDNAPMSMMLGAPEVLTFGQNFIRSFGGRRVIDVGTYTGASALAWALAVPDDGEVFTFDIDHTNYKKFGVPIISKCEKTFKKIRAIEGSALDGLDKLIADGQSGTFDFAFIDADKVNYSNYYDRAVTLLRKGGVIFVDNSLWNGSVCDPARRTEPSTVAIHQANDKIFKDDRTYSALINLGDGTHIAFKK'"
      ]
     },
     "execution_count": 7,
     "metadata": {},
     "output_type": "execute_result"
    }
   ],
   "source": [
    "complete_data=\"C:\\\\Users\\\\jimmy\\\\Desktop\\\\2024SUMMER\\\\raw_data\\\\unspliced+UTRTranscriptSequence_Y40B10A.2a.1 (1).fasta\"\n",
    "raw_sequence=hw2.readfile_generate_raw_sequence(complete_data)\n",
    "chips_output=hw2.chips(raw_sequence)\n",
    "index_and_name_and_info=hw2.generate_indexAndName(chips_output)\n",
    "only_sequence=[]\n",
    "for i in range(len(index_and_name_and_info)):\n",
    "    sequence=index_and_name_and_info[i][4]\n",
    "    if sequence.isupper():\n",
    "        only_sequence.append(sequence)\n",
    "cds=''.join(only_sequence)\n",
    "coding_dna=Seq(cds)\n",
    "protein=coding_dna.translate(to_stop=True)\n",
    "str(protein)\n"
   ]
  },
  {
   "cell_type": "code",
   "execution_count": 9,
   "metadata": {},
   "outputs": [
    {
     "name": "stdout",
     "output_type": "stream",
     "text": [
      "the same\n"
     ]
    }
   ],
   "source": [
    "ans='MSNVAKSYKSSDPVIAYCSEHTTIQSPLQAELLKETLDNAPMSMMLGAPEVLTFGQNFIRSFGGRRVIDVGTYTGASALAWALAVPDDGEVFTFDIDHTNYKKFGVPIISKCEKTFKKIRAIEGSALDGLDKLIADGQSGTFDFAFIDADKVNYSNYYDRAVTLLRKGGVIFVDNSLWNGSVCDPARRTEPSTVAIHQANDKIFKDDRTYSALINLGDGTHIAFKK'\n",
    "if ans==protein:\n",
    "    print(\"the same\")"
   ]
  }
 ],
 "metadata": {
  "kernelspec": {
   "display_name": "test",
   "language": "python",
   "name": "python3"
  },
  "language_info": {
   "codemirror_mode": {
    "name": "ipython",
    "version": 3
   },
   "file_extension": ".py",
   "mimetype": "text/x-python",
   "name": "python",
   "nbconvert_exporter": "python",
   "pygments_lexer": "ipython3",
   "version": "3.12.4"
  }
 },
 "nbformat": 4,
 "nbformat_minor": 2
}
