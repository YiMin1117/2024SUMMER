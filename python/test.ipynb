{
 "cells": [
  {
   "cell_type": "code",
   "execution_count": 1,
   "metadata": {},
   "outputs": [],
   "source": [
    "import pandas as pd\n",
    "import gzip"
   ]
  },
  {
   "cell_type": "code",
   "execution_count": 3,
   "metadata": {},
   "outputs": [
    {
     "name": "stderr",
     "output_type": "stream",
     "text": [
      "<>:4: SyntaxWarning: invalid escape sequence '\\c'\n",
      "<>:4: SyntaxWarning: invalid escape sequence '\\c'\n",
      "C:\\Users\\jimmy\\AppData\\Local\\Temp\\ipykernel_4600\\2465677690.py:4: SyntaxWarning: invalid escape sequence '\\c'\n",
      "  file_path = 'raw_data\\c_elegans.PRJNA13758.WS284.mRNA_transcripts.fa'\n"
     ]
    },
    {
     "ename": "FileNotFoundError",
     "evalue": "[Errno 2] No such file or directory: 'raw_data\\\\c_elegans.PRJNA13758.WS284.mRNA_transcripts.fa'",
     "output_type": "error",
     "traceback": [
      "\u001b[1;31m---------------------------------------------------------------------------\u001b[0m",
      "\u001b[1;31mFileNotFoundError\u001b[0m                         Traceback (most recent call last)",
      "Cell \u001b[1;32mIn[3], line 6\u001b[0m\n\u001b[0;32m      4\u001b[0m file_path \u001b[38;5;241m=\u001b[39m \u001b[38;5;124m'\u001b[39m\u001b[38;5;124mraw_data\u001b[39m\u001b[38;5;124m\\\u001b[39m\u001b[38;5;124mc_elegans.PRJNA13758.WS284.mRNA_transcripts.fa\u001b[39m\u001b[38;5;124m'\u001b[39m\n\u001b[0;32m      5\u001b[0m genes_dict\u001b[38;5;241m=\u001b[39mdefaultdict(\u001b[38;5;28mlist\u001b[39m)\n\u001b[1;32m----> 6\u001b[0m \u001b[38;5;28;01mwith\u001b[39;00m \u001b[38;5;28;43mopen\u001b[39;49m\u001b[43m(\u001b[49m\u001b[43mfile_path\u001b[49m\u001b[43m,\u001b[49m\u001b[43m \u001b[49m\u001b[38;5;124;43m'\u001b[39;49m\u001b[38;5;124;43mrt\u001b[39;49m\u001b[38;5;124;43m'\u001b[39;49m\u001b[43m)\u001b[49m \u001b[38;5;28;01mas\u001b[39;00m file:\n\u001b[0;32m      7\u001b[0m     \u001b[38;5;28;01mfor\u001b[39;00m line \u001b[38;5;129;01min\u001b[39;00m file:\n\u001b[0;32m      8\u001b[0m         line\u001b[38;5;241m=\u001b[39mline\u001b[38;5;241m.\u001b[39mstrip()\n",
      "File \u001b[1;32mc:\\Users\\jimmy\\miniconda3\\envs\\TESTPC\\Lib\\site-packages\\IPython\\core\\interactiveshell.py:324\u001b[0m, in \u001b[0;36m_modified_open\u001b[1;34m(file, *args, **kwargs)\u001b[0m\n\u001b[0;32m    317\u001b[0m \u001b[38;5;28;01mif\u001b[39;00m file \u001b[38;5;129;01min\u001b[39;00m {\u001b[38;5;241m0\u001b[39m, \u001b[38;5;241m1\u001b[39m, \u001b[38;5;241m2\u001b[39m}:\n\u001b[0;32m    318\u001b[0m     \u001b[38;5;28;01mraise\u001b[39;00m \u001b[38;5;167;01mValueError\u001b[39;00m(\n\u001b[0;32m    319\u001b[0m         \u001b[38;5;124mf\u001b[39m\u001b[38;5;124m\"\u001b[39m\u001b[38;5;124mIPython won\u001b[39m\u001b[38;5;124m'\u001b[39m\u001b[38;5;124mt let you open fd=\u001b[39m\u001b[38;5;132;01m{\u001b[39;00mfile\u001b[38;5;132;01m}\u001b[39;00m\u001b[38;5;124m by default \u001b[39m\u001b[38;5;124m\"\u001b[39m\n\u001b[0;32m    320\u001b[0m         \u001b[38;5;124m\"\u001b[39m\u001b[38;5;124mas it is likely to crash IPython. If you know what you are doing, \u001b[39m\u001b[38;5;124m\"\u001b[39m\n\u001b[0;32m    321\u001b[0m         \u001b[38;5;124m\"\u001b[39m\u001b[38;5;124myou can use builtins\u001b[39m\u001b[38;5;124m'\u001b[39m\u001b[38;5;124m open.\u001b[39m\u001b[38;5;124m\"\u001b[39m\n\u001b[0;32m    322\u001b[0m     )\n\u001b[1;32m--> 324\u001b[0m \u001b[38;5;28;01mreturn\u001b[39;00m \u001b[43mio_open\u001b[49m\u001b[43m(\u001b[49m\u001b[43mfile\u001b[49m\u001b[43m,\u001b[49m\u001b[43m \u001b[49m\u001b[38;5;241;43m*\u001b[39;49m\u001b[43margs\u001b[49m\u001b[43m,\u001b[49m\u001b[43m \u001b[49m\u001b[38;5;241;43m*\u001b[39;49m\u001b[38;5;241;43m*\u001b[39;49m\u001b[43mkwargs\u001b[49m\u001b[43m)\u001b[49m\n",
      "\u001b[1;31mFileNotFoundError\u001b[0m: [Errno 2] No such file or directory: 'raw_data\\\\c_elegans.PRJNA13758.WS284.mRNA_transcripts.fa'"
     ]
    }
   ],
   "source": [
    "import gzip\n",
    "from collections import defaultdict\n",
    "\n",
    "file_path = 'raw_data\\c_elegans.PRJNA13758.WS284.mRNA_transcripts.fa'\n",
    "genes_dict=defaultdict(list)\n",
    "with open(file_path, 'rt') as file:\n",
    "    for line in file:\n",
    "        line=line.strip()\n",
    "        if line.startswith(\">\"):\n",
    "            head=line[1:]\n",
    "            transcript,gene=head.split(\" gene=\")\n",
    "            genes_dict[gene].append(transcript)\n",
    "genes_dict"
   ]
  },
  {
   "cell_type": "code",
   "execution_count": null,
   "metadata": {},
   "outputs": [
    {
     "data": {
      "text/html": [
       "<div>\n",
       "<style scoped>\n",
       "    .dataframe tbody tr th:only-of-type {\n",
       "        vertical-align: middle;\n",
       "    }\n",
       "\n",
       "    .dataframe tbody tr th {\n",
       "        vertical-align: top;\n",
       "    }\n",
       "\n",
       "    .dataframe thead th {\n",
       "        text-align: right;\n",
       "    }\n",
       "</style>\n",
       "<table border=\"1\" class=\"dataframe\">\n",
       "  <thead>\n",
       "    <tr style=\"text-align: right;\">\n",
       "      <th></th>\n",
       "      <th>Gene_ID</th>\n",
       "      <th>transcript_ID</th>\n",
       "      <th>#of transcripts</th>\n",
       "    </tr>\n",
       "  </thead>\n",
       "  <tbody>\n",
       "    <tr>\n",
       "      <th>0</th>\n",
       "      <td>WBGene00007063</td>\n",
       "      <td>[2L52.1a.1, 2L52.1b.1]</td>\n",
       "      <td>2</td>\n",
       "    </tr>\n",
       "    <tr>\n",
       "      <th>1</th>\n",
       "      <td>WBGene00007064</td>\n",
       "      <td>[2RSSE.1a.1, 2RSSE.1b.1, 2RSSE.1c.1]</td>\n",
       "      <td>3</td>\n",
       "    </tr>\n",
       "    <tr>\n",
       "      <th>2</th>\n",
       "      <td>WBGene00007065</td>\n",
       "      <td>[3R5.1a.1, 3R5.1b.1]</td>\n",
       "      <td>2</td>\n",
       "    </tr>\n",
       "    <tr>\n",
       "      <th>3</th>\n",
       "      <td>WBGene00003525</td>\n",
       "      <td>[4R79.1a.1, 4R79.1b.1]</td>\n",
       "      <td>2</td>\n",
       "    </tr>\n",
       "    <tr>\n",
       "      <th>4</th>\n",
       "      <td>WBGene00007067</td>\n",
       "      <td>[4R79.2a.1, 4R79.2b.1]</td>\n",
       "      <td>2</td>\n",
       "    </tr>\n",
       "    <tr>\n",
       "      <th>...</th>\n",
       "      <td>...</td>\n",
       "      <td>...</td>\n",
       "      <td>...</td>\n",
       "    </tr>\n",
       "    <tr>\n",
       "      <th>19976</th>\n",
       "      <td>WBGene00004256</td>\n",
       "      <td>[ZK994.3.1]</td>\n",
       "      <td>1</td>\n",
       "    </tr>\n",
       "    <tr>\n",
       "      <th>19977</th>\n",
       "      <td>WBGene00022842</td>\n",
       "      <td>[ZK994.6a.1, ZK994.6b.1]</td>\n",
       "      <td>2</td>\n",
       "    </tr>\n",
       "    <tr>\n",
       "      <th>19978</th>\n",
       "      <td>WBGene00008352</td>\n",
       "      <td>[cTel54X.1.1]</td>\n",
       "      <td>1</td>\n",
       "    </tr>\n",
       "    <tr>\n",
       "      <th>19979</th>\n",
       "      <td>WBGene00305997</td>\n",
       "      <td>[cTel54X.2.1]</td>\n",
       "      <td>1</td>\n",
       "    </tr>\n",
       "    <tr>\n",
       "      <th>19980</th>\n",
       "      <td>WBGene00007068</td>\n",
       "      <td>[cTel55X.1a.1, cTel55X.1b.1]</td>\n",
       "      <td>2</td>\n",
       "    </tr>\n",
       "  </tbody>\n",
       "</table>\n",
       "<p>19981 rows × 3 columns</p>\n",
       "</div>"
      ],
      "text/plain": [
       "              Gene_ID                         transcript_ID  #of transcripts\n",
       "0      WBGene00007063                [2L52.1a.1, 2L52.1b.1]                2\n",
       "1      WBGene00007064  [2RSSE.1a.1, 2RSSE.1b.1, 2RSSE.1c.1]                3\n",
       "2      WBGene00007065                  [3R5.1a.1, 3R5.1b.1]                2\n",
       "3      WBGene00003525                [4R79.1a.1, 4R79.1b.1]                2\n",
       "4      WBGene00007067                [4R79.2a.1, 4R79.2b.1]                2\n",
       "...               ...                                   ...              ...\n",
       "19976  WBGene00004256                           [ZK994.3.1]                1\n",
       "19977  WBGene00022842              [ZK994.6a.1, ZK994.6b.1]                2\n",
       "19978  WBGene00008352                         [cTel54X.1.1]                1\n",
       "19979  WBGene00305997                         [cTel54X.2.1]                1\n",
       "19980  WBGene00007068          [cTel55X.1a.1, cTel55X.1b.1]                2\n",
       "\n",
       "[19981 rows x 3 columns]"
      ]
     },
     "execution_count": 3,
     "metadata": {},
     "output_type": "execute_result"
    }
   ],
   "source": [
    "gene_data={\n",
    "    \"Gene_ID\":[],\n",
    "    \"transcript_ID\":[],\n",
    "    \"#of transcripts\":[]\n",
    "}\n",
    "for gene,transcripts in genes_dict.items():\n",
    "    gene_data[\"Gene_ID\"].append(gene)\n",
    "    gene_data[\"transcript_ID\"].append(transcripts)\n",
    "    gene_data[\"#of transcripts\"].append(len(transcripts))\n",
    "df=pd.DataFrame(gene_data)\n",
    "df"
   ]
  },
  {
   "cell_type": "code",
   "execution_count": null,
   "metadata": {},
   "outputs": [],
   "source": [
    "import re\n",
    "df['Gene_Num']=df['Gene_ID'].apply(lambda x:int(re.search(r'\\d+',x).group()))\n",
    "df=df.sort_values(by='Gene_Num').drop(columns='Gene_Num').reset_index(drop=True)"
   ]
  },
  {
   "cell_type": "code",
   "execution_count": null,
   "metadata": {},
   "outputs": [
    {
     "data": {
      "text/html": [
       "<div>\n",
       "<style scoped>\n",
       "    .dataframe tbody tr th:only-of-type {\n",
       "        vertical-align: middle;\n",
       "    }\n",
       "\n",
       "    .dataframe tbody tr th {\n",
       "        vertical-align: top;\n",
       "    }\n",
       "\n",
       "    .dataframe thead th {\n",
       "        text-align: right;\n",
       "    }\n",
       "</style>\n",
       "<table border=\"1\" class=\"dataframe\">\n",
       "  <thead>\n",
       "    <tr style=\"text-align: right;\">\n",
       "      <th></th>\n",
       "      <th>Gene_ID</th>\n",
       "      <th>transcript_ID</th>\n",
       "      <th>#of transcripts</th>\n",
       "    </tr>\n",
       "  </thead>\n",
       "  <tbody>\n",
       "    <tr>\n",
       "      <th>0</th>\n",
       "      <td>WBGene00000001</td>\n",
       "      <td>[Y110A7A.10.1]</td>\n",
       "      <td>1</td>\n",
       "    </tr>\n",
       "    <tr>\n",
       "      <th>1</th>\n",
       "      <td>WBGene00000002</td>\n",
       "      <td>[F27C8.1.1]</td>\n",
       "      <td>1</td>\n",
       "    </tr>\n",
       "    <tr>\n",
       "      <th>2</th>\n",
       "      <td>WBGene00000003</td>\n",
       "      <td>[F07C3.7.1]</td>\n",
       "      <td>1</td>\n",
       "    </tr>\n",
       "    <tr>\n",
       "      <th>3</th>\n",
       "      <td>WBGene00000004</td>\n",
       "      <td>[F52H2.2a.1, F52H2.2b.1]</td>\n",
       "      <td>2</td>\n",
       "    </tr>\n",
       "    <tr>\n",
       "      <th>4</th>\n",
       "      <td>WBGene00000005</td>\n",
       "      <td>[T13A10.10a.1]</td>\n",
       "      <td>1</td>\n",
       "    </tr>\n",
       "    <tr>\n",
       "      <th>...</th>\n",
       "      <td>...</td>\n",
       "      <td>...</td>\n",
       "      <td>...</td>\n",
       "    </tr>\n",
       "    <tr>\n",
       "      <th>19976</th>\n",
       "      <td>WBGene00306121</td>\n",
       "      <td>[Y48G1BM.10.1]</td>\n",
       "      <td>1</td>\n",
       "    </tr>\n",
       "    <tr>\n",
       "      <th>19977</th>\n",
       "      <td>WBGene00306123</td>\n",
       "      <td>[Y97E10C.2a.1, Y97E10C.2b.1]</td>\n",
       "      <td>2</td>\n",
       "    </tr>\n",
       "    <tr>\n",
       "      <th>19978</th>\n",
       "      <td>WBGene00306124</td>\n",
       "      <td>[W04B5.9.1]</td>\n",
       "      <td>1</td>\n",
       "    </tr>\n",
       "    <tr>\n",
       "      <th>19979</th>\n",
       "      <td>WBGene00306125</td>\n",
       "      <td>[F58B6.11.1]</td>\n",
       "      <td>1</td>\n",
       "    </tr>\n",
       "    <tr>\n",
       "      <th>19980</th>\n",
       "      <td>WBGene00306126</td>\n",
       "      <td>[Y54F10AM.16a.1, Y54F10AM.16b.1]</td>\n",
       "      <td>2</td>\n",
       "    </tr>\n",
       "  </tbody>\n",
       "</table>\n",
       "<p>19981 rows × 3 columns</p>\n",
       "</div>"
      ],
      "text/plain": [
       "              Gene_ID                     transcript_ID  #of transcripts\n",
       "0      WBGene00000001                    [Y110A7A.10.1]                1\n",
       "1      WBGene00000002                       [F27C8.1.1]                1\n",
       "2      WBGene00000003                       [F07C3.7.1]                1\n",
       "3      WBGene00000004          [F52H2.2a.1, F52H2.2b.1]                2\n",
       "4      WBGene00000005                    [T13A10.10a.1]                1\n",
       "...               ...                               ...              ...\n",
       "19976  WBGene00306121                    [Y48G1BM.10.1]                1\n",
       "19977  WBGene00306123      [Y97E10C.2a.1, Y97E10C.2b.1]                2\n",
       "19978  WBGene00306124                       [W04B5.9.1]                1\n",
       "19979  WBGene00306125                      [F58B6.11.1]                1\n",
       "19980  WBGene00306126  [Y54F10AM.16a.1, Y54F10AM.16b.1]                2\n",
       "\n",
       "[19981 rows x 3 columns]"
      ]
     },
     "execution_count": 5,
     "metadata": {},
     "output_type": "execute_result"
    }
   ],
   "source": [
    "df"
   ]
  },
  {
   "cell_type": "code",
   "execution_count": null,
   "metadata": {},
   "outputs": [
    {
     "name": "stdout",
     "output_type": "stream",
     "text": [
      "['00007063']\n"
     ]
    }
   ],
   "source": [
    "import re\n",
    "\n",
    "# 假设我们有一个字符串\n",
    "text = \"WBGene00007063\"\n",
    "\n",
    "# 使用正则表达式找出其中的数字部分\n",
    "numbers = re.findall(r'\\d+', text)\n",
    "print(numbers)  # 输出: ['123', '456', '7890']"
   ]
  },
  {
   "cell_type": "markdown",
   "metadata": {},
   "source": [
    "#\n",
    "validation\n"
   ]
  },
  {
   "cell_type": "code",
   "execution_count": 3,
   "metadata": {},
   "outputs": [
    {
     "name": "stdout",
     "output_type": "stream",
     "text": [
      "兩個CSV文件相同\n"
     ]
    }
   ],
   "source": [
    "import pandas as pd\n",
    "df1 = pd.read_csv('C:\\\\Users\\\\jimmy\\\\Desktop\\\\2024SUMMER\\\\csv\\\\hw1_output_ans.csv')\n",
    "df2 = pd.read_csv('C:\\\\Users\\\\jimmy\\\\Desktop\\\\2024SUMMER\\\\csv\\\\hw1.csv')\n",
    "if df1.equals(df2):\n",
    "    print(\"兩個CSV文件相同\")\n",
    "else:\n",
    "    print(\"兩個CSV文件不同\")\n"
   ]
  }
 ],
 "metadata": {
  "kernelspec": {
   "display_name": "base",
   "language": "python",
   "name": "python3"
  },
  "language_info": {
   "codemirror_mode": {
    "name": "ipython",
    "version": 3
   },
   "file_extension": ".py",
   "mimetype": "text/x-python",
   "name": "python",
   "nbconvert_exporter": "python",
   "pygments_lexer": "ipython3",
   "version": "3.12.4"
  }
 },
 "nbformat": 4,
 "nbformat_minor": 2
}
